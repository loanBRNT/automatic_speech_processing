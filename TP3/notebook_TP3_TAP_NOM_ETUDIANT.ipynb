{
 "cells": [
  {
   "cell_type": "markdown",
   "id": "7ae8162c",
   "metadata": {},
   "source": [
    "# TP3 SYSTEME DE VERIFICATION DU LOCUTEUR\n",
    "NOM - PRÉNOM :\n",
    "\n",
    "Déposer le notebook sur moodle à la fin de la séance."
   ]
  },
  {
   "cell_type": "code",
   "execution_count": 1,
   "id": "718be674",
   "metadata": {},
   "outputs": [],
   "source": [
    "############################################\n",
    "# BE : Système de vérification du locuteur #\n",
    "############################################\n",
    "\n",
    "import numpy as np\n",
    "from math import floor\n",
    "import scipy.io.wavfile as wav\n",
    "import matplotlib.pyplot as plt\n",
    "from sklearn.mixture import GaussianMixture as em\n"
   ]
  },
  {
   "cell_type": "markdown",
   "id": "dbaebed4",
   "metadata": {},
   "source": [
    "### 1-DONNÉES à TRAITER"
   ]
  },
  {
   "cell_type": "code",
   "execution_count": null,
   "id": "181381f4",
   "metadata": {},
   "outputs": [],
   "source": [
    "# Écrire une fonction « lecture » permettant de lire un fichier son (en normalisant les échantillons \n",
    "# entre -1 et 1, grâce au nombre de bits de quantification), de connaître sa fréquence d’échantillonnage \n",
    "# et sa durée. Le nombre de bits de quantification de nos fichiers est 16.\n",
    "def lecture(fichier, nb_bits):"
   ]
  },
  {
   "cell_type": "markdown",
   "id": "014c18fe",
   "metadata": {},
   "source": [
    "### 2-DECOMPOSITION PAROLE/NON-PAROLE"
   ]
  },
  {
   "cell_type": "code",
   "execution_count": 2,
   "id": "991ea670",
   "metadata": {},
   "outputs": [],
   "source": [
    "# Calcul de l'ENERGIE d'un signal\n",
    "def energie(signal, taille_fenetre):\n",
    "    # Initialisation du vecteur résultat\n",
    "    recouvrement = floor(taille_fenetre / 2)\n",
    "    nb_fen = floor((np.size(signal) - taille_fenetre) / recouvrement) + 1\n",
    "    nrj_res = np.zeros(nb_fen)\n",
    "\n",
    "    # Calcul de l’énergie\n",
    "    for fen in range(nb_fen):\n",
    "        p = fen * recouvrement\n",
    "        nrj_res[fen] = np.sum((signal[p:p + taille_fenetre]) ** 2) / taille_fenetre\n",
    "\n",
    "    return nrj_res\n"
   ]
  },
  {
   "cell_type": "markdown",
   "id": "bdef5cca",
   "metadata": {},
   "source": [
    "Lire et comprendre la fonction « energie » permettant de calculer l’énergie à court terme\n",
    "d’un signal en fonction de la taille des fenêtres d’analyse. Ce traitement a été vu lors de\n",
    "l’Introduction au Son en 1A.\n",
    "==> La sortie sera booléenne « 0 » (ou « False ») en l’absence de parole et de « 1 » (ou\n",
    "« True ») en présence de parole."
   ]
  },
  {
   "cell_type": "code",
   "execution_count": 3,
   "id": "03fc8112",
   "metadata": {},
   "outputs": [],
   "source": [
    "# Ecrire une fonction « etiquetage » (utilisant la fonction « energie » fournie) permettant\n",
    "# d’étiqueter un fichier son en parole et non-parole. Le seuil est à fixer par vos soins. \n",
    "\n",
    "# ETIQUETAGE en parole/non-parole (1/0) grâce au calcul d'énergie\n",
    "def etiquetage(signal, taille_fenetre, seuil):"
   ]
  },
  {
   "cell_type": "markdown",
   "id": "72bb3d82",
   "metadata": {},
   "source": [
    "Tester les fonctions lecture, energie et etiquetage dans les parties de code ci-dessous appliquée à un seul fichier L1_fic1.wav. Décommenter les lignes nécessaires. "
   ]
  },
  {
   "cell_type": "code",
   "execution_count": 1,
   "id": "86801cba",
   "metadata": {},
   "outputs": [],
   "source": [
    "#######################\n",
    "# PROGRAMME PRINCIPAL #\n",
    "#######################\n",
    "\n",
    "# Constantes\n",
    "taille_fenetre = 1024\n",
    "nb_locuteur = 10\n",
    "nb_fic_app = 8\n",
    "seuil = 0.0001\n",
    "q = 16\n",
    "nb_MFCC = 8\n",
    "locuteur_cible = 1\n",
    "nbe_gauss = 1\n",
    "\n",
    "# Lecture d'un fichier\n",
    "#signal, fe, duree = lecture('WAV/APP/L1_fic1.wav', q)\n",
    "\n",
    "# Affichage du signal audio et des valeurs\n",
    "#plt.figure(1)\n",
    "#plt.plot(np.arange(len(signal)) / fe, signal)\n",
    "#plt.show()\n",
    "#print('Fe =', fe, 'Hz et durée =', duree, 's')\n",
    "\n"
   ]
  },
  {
   "cell_type": "code",
   "execution_count": null,
   "id": "dfbcb88f",
   "metadata": {},
   "outputs": [],
   "source": [
    "# Calcul de l'énergie d'un fichier\n",
    "#nrj_res = energie(signal, taille_fenetre)\n",
    "\n",
    "# Affichage du signal et de l'énergie\n",
    "#plt.figure(2)\n",
    "#plt.subplot(211)\n",
    "#plt.plot(np.arange(len(signal)) / fe, signal)\n",
    "#plt.subplot(212)\n",
    "#plt.plot(nrj_res)\n",
    "#plt.show()\n"
   ]
  },
  {
   "cell_type": "code",
   "execution_count": null,
   "id": "20d1b69f",
   "metadata": {},
   "outputs": [],
   "source": [
    "# Etiquetage d'un fichier\n",
    "#etiq = etiquetage(signal, taille_fenetre, seuil)\n",
    "\n",
    "# Affichage du signal et de l'énergie\n",
    "#plt.figure(3)\n",
    "#plt.subplot(311)\n",
    "#plt.plot(np.arange(len(signal)) / fe, signal)\n",
    "#plt.subplot(312)\n",
    "#plt.plot(nrj_res)\n",
    "#plt.subplot(313)\n",
    "#plt.plot(etiq, '.')\n",
    "#plt.show()\n"
   ]
  },
  {
   "cell_type": "code",
   "execution_count": 4,
   "id": "82d35c49",
   "metadata": {},
   "outputs": [],
   "source": [
    "# Ecrire une fonction « etiquetage_total » (utilisant la fonction « etiquetage ») permettant\n",
    "# d’étiqueter en parole/non-parole tous les fichiers sonores du répertoire « APP ». \n",
    "\n",
    "# Les résultats de la fonction « etiquetage » seront enregistrés dans des fichiers texte (avec la\n",
    "# fonction Numpy savetxt) portant le nom des fichiers son de départ avec l’extension « .lab » et\n",
    "# seront rangés dans le répertoire « LABELS ». Ce répertoire sera au même niveau que le\n",
    "# répertoire « WAV ».\n",
    " \n",
    "# ETIQUETAGE_TOTAL --> tous les fichiers du répertoire ont un fichier .lab correspondant\n",
    "def etiquetage_total(nb_bits, taille_fenetre, nbe_loc, nbe_fic, seuil):\n",
    "    \n",
    "    "
   ]
  },
  {
   "cell_type": "markdown",
   "id": "5c1280c0",
   "metadata": {},
   "source": [
    "Tester la fonction etiquetage_total dans la partie de code ci-dessous. Décommenter les lignes nécessaires. Affiher le contenu du répertoire LABELS"
   ]
  },
  {
   "cell_type": "code",
   "execution_count": null,
   "id": "9eea24af",
   "metadata": {},
   "outputs": [],
   "source": [
    "# Géréraliser les traitements précédents \n",
    "\n",
    "# Etiquetage des fichiers du repertoire APP\n",
    "# etiquetage_total(q, taille_fenetre, nb_locuteur, nb_fic_app, seuil)\n"
   ]
  },
  {
   "cell_type": "markdown",
   "id": "28374a11",
   "metadata": {},
   "source": [
    "### 3- PARAMETRISATION"
   ]
  },
  {
   "cell_type": "code",
   "execution_count": 5,
   "id": "ee244c25",
   "metadata": {},
   "outputs": [],
   "source": [
    "# Calcul de \"nbe_coef\" coefficients cepstraux\n",
    "def parametrisation(signal, taille_fenetre, nbe_coef):\n",
    "    # Initialisation de la matrice résultat\n",
    "    recouvrement = floor(taille_fenetre / 2)\n",
    "    nb_fen = floor((np.size(signal) - taille_fenetre) / recouvrement) + 1\n",
    "    mfcc = np.zeros((nb_fen, nbe_coef))\n",
    "\n",
    "    # Calcul des MFCC\n",
    "    for fen in range(nb_fen):\n",
    "        p = fen * recouvrement\n",
    "        spectre = abs(np.fft.fft(np.multiply(signal[p:p + taille_fenetre], np.hamming(taille_fenetre))))\n",
    "        cepstre = np.fft.fft(np.log(spectre))\n",
    "        cc = cepstre[1:nbe_coef+1].real\n",
    "        mfcc[fen, :] = cc\n",
    "\n",
    "    return mfcc"
   ]
  },
  {
   "cell_type": "markdown",
   "id": "b58a6ac7",
   "metadata": {},
   "source": [
    "Lire et comprendre la fonction « parametrisation ». Là aussi, ce traitement a été vu lors de\n",
    "l’Introduction au Son en 1A. Le résultat de cette paramétrisation est un fichier composé d’une\n",
    "suite de valeurs telles : Coef1 Coef2 … Coefnbe_coef"
   ]
  },
  {
   "cell_type": "code",
   "execution_count": null,
   "id": "67ce36a7",
   "metadata": {},
   "outputs": [],
   "source": [
    "# Écrire une fonction « parametrisation_total.m » (utilisant la fonction « parametrisation »\n",
    "# fournie) permettant de calculer les MFCC pour tous les fichiers du répertoire « APP ».\n",
    "\n",
    "# Fonction de PARAMETRISATION_TOTALE --> tous les fichiers du répertoire ont un .mfcc correspondant\n",
    "def parametrisation_total(nb_bits, taille_fenetre, nbe_coef, nbe_loc, nbe_fic):\n"
   ]
  },
  {
   "cell_type": "markdown",
   "id": "0084f301",
   "metadata": {},
   "source": [
    "Tester la fonction parametrisation_total dans la partie de code ci-dessous. Décommenter les lignes nécessaires. Afficher le contenu du répertoire MFCC"
   ]
  },
  {
   "cell_type": "code",
   "execution_count": null,
   "id": "ee9f5620",
   "metadata": {},
   "outputs": [],
   "source": [
    "# Géréraliser les traitements précédents \n",
    "\n",
    "# Paramétrisation des fichiers du repertoire APP\n",
    "#parametrisation_total(q, taille_fenetre, nb_MFCC, nb_locuteur, nb_fic_app)"
   ]
  },
  {
   "cell_type": "markdown",
   "id": "24c9d786",
   "metadata": {},
   "source": [
    "### 4) APPRENTISSAGE"
   ]
  },
  {
   "cell_type": "code",
   "execution_count": 6,
   "id": "61a543d2",
   "metadata": {},
   "outputs": [],
   "source": [
    "# Affectation des coefficients cepstraux du répertoire \"MFCC\" suivant les labels\n",
    "def affectation(REP_LAB, REP_MFCC, nbe_coef, nbe_loc, nbe_fic, locuteur):\n",
    "    # Initialisation de \"param\" (MFCC du \"monde\")\n",
    "    param = np.empty((0, nbe_coef))\n",
    "\n",
    "    # Boucle sur tous les fichiers\n",
    "    for x in range(1, nbe_loc+1):\n",
    "        # Initialisation de \"param_indices\" (MFCC du \"locuteur\")\n",
    "        param_loc = np.empty((0, nbe_coef))\n",
    "\n",
    "        for y in range(1, nbe_fic+1):\n",
    "            # Nom des fichiers LAB et MFCC\n",
    "            fichier_lab = REP_LAB + '/L' + str(x) + '_fic' + str(y) + '.lab'\n",
    "            fichier_mfcc = REP_MFCC + '/L' + str(x) + '_fic' + str(y) + '.mfcc'\n",
    "\n",
    "            # Lecture des 2 fichiers\n",
    "            lab = np.loadtxt(fichier_lab)\n",
    "            mfcc = np.loadtxt(fichier_mfcc)\n",
    "\n",
    "            # Vérification des fichiers\n",
    "            if (np.shape(lab)[0] != np.shape(mfcc)[0]):\n",
    "                print('Les fichiers ont des tailles différentes', np.shape(lab)[0], np.shape(mfcc)[0])\n",
    "\n",
    "            # Récupération des labels à 1\n",
    "            indices = lab == 1\n",
    "\n",
    "            # Concaténation des MFCC correspondant aux labels à 1\n",
    "            mfcc_val = mfcc[indices, :]\n",
    "            param_loc = np.concatenate((param_loc, mfcc_val))\n",
    "\n",
    "        # Test sur le numéro du locuteur\n",
    "        if (x == locuteur):\n",
    "            # Nom du fichier MFCC locuteur\n",
    "            fichier_loc = REP_MFCC + '/L' + str(x) + '.mfcc'\n",
    "\n",
    "            # Enregistrement dans un fichier texte des MFCC pour le modèle \"locuteur\"\n",
    "            np.savetxt(fichier_loc, param_loc, fmt='%f')\n",
    "\n",
    "        # Concaténation des MFCC du locuteur \"x\" aux autres\n",
    "        param = np.concatenate((param, param_loc))\n",
    "\n",
    "    # Enregistrement dans un fichier texte des MFCC pour le modèle \"monde\"\n",
    "    np.savetxt('MFCC/monde.mfcc', param, fmt='%f')\n",
    "\n"
   ]
  },
  {
   "cell_type": "markdown",
   "id": "9e8eb52b",
   "metadata": {},
   "source": [
    "Utiliser et comprendre la fonction « affectation » permettant de créer deux fichiers contenant\n",
    "l’ensemble des paramètres (MFCC) indicés nécessaire (1) à l’apprentissage des modèles du\n",
    "« monde » et (2) du « locuteur ». Le choix (numéro) du locuteur est passé en paramètre."
   ]
  },
  {
   "cell_type": "markdown",
   "id": "9887baeb",
   "metadata": {},
   "source": [
    "Faire 2 appels à la fonction nommée « em » dans la partie du programme principal dédiée à l'apprentissage. Vous utiliserez la méthode « fit » afin de créer les 2 modèles (« monde » et « Lx »). \n",
    "\n",
    "Pour plus de détails, voir :\n",
    "https://scikit-learn.org/stable/modules/generated/sklearn.mixture.GaussianMixture.html#sklearn.mixture.GaussianMixture\n",
    "\n",
    "Cette fonction « em » utilisera les vecteurs de données à traiter (paramètres indicés parole\n",
    "dans un cas et locuteur dans l’autre cas) ainsi que le nombre de lois gaussiennes. Elle fournira\n",
    "en sortie les modèles du monde et du locuteur représentés par les poids (.weights_), les\n",
    "moyennes (.means_) et les variances (.covariances_) de chacune des lois gaussiennes."
   ]
  },
  {
   "cell_type": "markdown",
   "id": "d079c463",
   "metadata": {},
   "source": [
    "Tester la partie apprentissage dans la suite du programme principal en décommentant et en complétant le code du programme principal ci-après. \n",
    "- Affectation des mfcc des zones de parole pour constitution du modèle de monde et du modèle du locuteur cible. Ne doit être exécuté qu'une seule fois par locuteur cible.\n",
    "- Apprentissage du modèle du monde \n",
    "- Apprentissage du modèle du locuteur cible"
   ]
  },
  {
   "cell_type": "code",
   "execution_count": null,
   "id": "310bd2ea",
   "metadata": {},
   "outputs": [],
   "source": [
    "\n",
    "#################\n",
    "# APPRENTISSAGE #\n",
    "#################\n",
    "\n",
    "# Affectation\n",
    "#affectation('LABELS', 'MFCC', nb_MFCC, nb_locuteur, nb_fic_app, locuteur_cible)\n",
    "\n",
    "# EM (appelant VQ) pour le modèle du \"monde\"\n",
    "#d_monde = np.loadtxt('MFCC/monde.mfcc')\n",
    "#------------------------------------------------------------> A compléter...\n",
    "#print(monde.weights_, monde.means_, monde.covariances_)\n",
    "\n",
    "# EM (MAP) pour le modèle du \"locuteur\"\n",
    "#-----------------------------------------------------------> A compléter...\n"
   ]
  },
  {
   "cell_type": "markdown",
   "id": "a6332423",
   "metadata": {},
   "source": [
    "### 5) RECONNAISSANCE"
   ]
  },
  {
   "cell_type": "markdown",
   "id": "5bc03a8c",
   "metadata": {},
   "source": [
    "Ecrire la fonction « tests_total » permettant d’effectuer la reconnaissance des fichiers sons\n",
    "inconnus situés dans le répertoire « WAV/RECO ». Cette fonction prendra en entrée la taille\n",
    "de la fenêtre d’analyse, le nombre de coefficients cepstraux ainsi que les modèles, composés de\n",
    "mélanges de lois gaussiennes. Elle fournira en sortie le taux de reconnaissance de chacun des\n",
    "fichiers.\n"
   ]
  },
  {
   "cell_type": "code",
   "execution_count": 7,
   "id": "dedef772",
   "metadata": {},
   "outputs": [],
   "source": [
    "# Tests sur tous les fichiers du répertoire 'WAV/RECO'\n",
    "def tests_total(nbe_loc, nb_fic, nb_bits, taille_fenetre, nbe_coef, monde, loc, seuil):\n",
    "\n"
   ]
  },
  {
   "cell_type": "markdown",
   "id": "0d8bf424",
   "metadata": {},
   "source": [
    "Tester la partie reconnaissance dans la suite du programme principal en décommentant et en complétant la partie de code ci-après"
   ]
  },
  {
   "cell_type": "code",
   "execution_count": null,
   "id": "7c3c4f11",
   "metadata": {},
   "outputs": [],
   "source": [
    "\n",
    "#################\n",
    "# RECONNAISSANCE #\n",
    "#################\n",
    "\n",
    "# Tests sur tous les fichiers du répertoire RECO\n",
    "# Appel de la fonction tests_total ---------------------> A compléter\n",
    "# print(taux_reco)\n"
   ]
  },
  {
   "cell_type": "code",
   "execution_count": null,
   "id": "18849f01",
   "metadata": {},
   "outputs": [],
   "source": [
    "### 6) ANALYSE DES DONNÉES"
   ]
  },
  {
   "cell_type": "code",
   "execution_count": null,
   "id": "869a2ccb",
   "metadata": {},
   "outputs": [],
   "source": [
    "Comment interprétez-vous les résultats obtenus ? Commentez. "
   ]
  }
 ],
 "metadata": {
  "kernelspec": {
   "display_name": "Python 3 (ipykernel)",
   "language": "python",
   "name": "python3"
  },
  "language_info": {
   "codemirror_mode": {
    "name": "ipython",
    "version": 3
   },
   "file_extension": ".py",
   "mimetype": "text/x-python",
   "name": "python",
   "nbconvert_exporter": "python",
   "pygments_lexer": "ipython3",
   "version": "3.8.12"
  }
 },
 "nbformat": 4,
 "nbformat_minor": 5
}
