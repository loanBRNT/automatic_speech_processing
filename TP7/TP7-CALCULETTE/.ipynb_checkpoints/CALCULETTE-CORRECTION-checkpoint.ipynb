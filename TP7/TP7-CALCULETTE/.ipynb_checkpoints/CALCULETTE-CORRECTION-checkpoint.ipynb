{
 "cells": [
  {
   "cell_type": "markdown",
   "id": "81f194b1",
   "metadata": {},
   "source": [
    "# TP 7 :  TP CALCULETTE - INTERPRETATION"
   ]
  },
  {
   "cell_type": "raw",
   "id": "c9d9e070",
   "metadata": {},
   "source": [
    "NOM - PRENON : \n",
    "Déposer le notebook sur moodle en fin de séance"
   ]
  },
  {
   "cell_type": "markdown",
   "id": "d18b18cc",
   "metadata": {},
   "source": [
    "## PARTIE 1 :  Mise en place\n",
    "Exécuter les cellules suivantes"
   ]
  },
  {
   "cell_type": "code",
   "execution_count": 1,
   "id": "19ebc16b",
   "metadata": {},
   "outputs": [],
   "source": [
    "import nltk\n",
    "from nltk import *\n",
    "from os import chdir, getcwd\n",
    "from nltk import load_parser\n",
    "import string"
   ]
  },
  {
   "cell_type": "code",
   "execution_count": 2,
   "id": "cea864e6",
   "metadata": {},
   "outputs": [],
   "source": [
    "from os import chdir, getcwd\n",
    "# PATH = 'chemin vers mon dossier'\n",
    "PATH = '/Users/ferrane/Documents/ENSEIGNEMENT/SRI-2A/COURS_TAP/2021_2022/TP7/TP7-CORRECTION'\n",
    "chdir(PATH)"
   ]
  },
  {
   "cell_type": "code",
   "execution_count": 3,
   "id": "f2f70f95",
   "metadata": {},
   "outputs": [
    {
     "name": "stdout",
     "output_type": "stream",
     "text": [
      "/Users/ferrane/Documents/ENSEIGNEMENT/SRI-2A/COURS_TAP/2021_2022/TP7/TP7-CORRECTION\n",
      "CALCULETTE-CORRECTION.ipynb   RESULTAT_CALCUL_V2.txt\n",
      "CALCULETTE_NOM.ipynb          RESULTAT_CALCUL_V3.txt\n",
      "GRAMMAIRE_OPERATION_V1.fcfg   RESULTAT_CALCUL_V4.txt\n",
      "GRAMMAIRE_OPERATION_V2.fcfg   RESULTAT_TRANSCRIPTION_V1.txt\n",
      "GRAMMAIRE_OPERATION_V3.fcfg   RESULTAT_TRANSCRIPTION_V2.txt\n",
      "GRAMMAIRE_OPERATION_V4.fcfg   RESULTAT_TRANSCRIPTION_V3.txt\n",
      "GRAMMAIRE_OPERATION_V5.fcfg   RESULTAT_TRANSCRIPTION_V4.txt\n",
      "RESULTAT_CALCUL.txt           RESULTAT_TRANSCRIPTION_V5.txt\n",
      "RESULTAT_CALCUL_V1.txt\n"
     ]
    }
   ],
   "source": [
    "!pwd; ls"
   ]
  },
  {
   "cell_type": "markdown",
   "id": "38ff5f50",
   "metadata": {},
   "source": [
    "## PARTIE 2 : Grammaire, Analyseur et chaine à traiter\n",
    "\n",
    "2.1) Exécuter les cellules suivantes. Etudier et interpréter leurs résultats"
   ]
  },
  {
   "cell_type": "code",
   "execution_count": null,
   "id": "917fb6a5",
   "metadata": {},
   "outputs": [],
   "source": [
    "# Chargement de la grammaire\n",
    "nom_fichier_grammaire_V1= 'GRAMMAIRE_OPERATION_V1.fcfg'\n",
    "# Visualisation du contenu de la grammaire\n",
    "data.show_cfg(nom_fichier_grammaire_V1)"
   ]
  },
  {
   "cell_type": "code",
   "execution_count": null,
   "id": "986e348a",
   "metadata": {},
   "outputs": [],
   "source": [
    "# Création d'un analyseur basé sur la grammaire chargée\n",
    "# version avec un niveau de tracde détaillé\n",
    "\n",
    "analyseur_V1 = parse.load_parser(nom_fichier_grammaire_V1, trace=2)\n",
    "\n",
    "# ATTENTION MEME SI ON RELANCE LA CELLULE, LES MODIFS FAITES SUR LA GRAMMAIRE PEUVENT NE PAS ETRE PRISES EN COMPTE\n",
    "# IL FAUT RELANCER LE NOYAU en attendant mieux. \n",
    "\n",
    "# version sans niveau de trace\n",
    "#analyseur_notrace = parse.load_parser(nom_fichier_grammaire)"
   ]
  },
  {
   "cell_type": "code",
   "execution_count": null,
   "id": "ffdf5d31",
   "metadata": {},
   "outputs": [],
   "source": [
    "# Exemple de chaine à traiter \n",
    "transcription_operation = 'cinq plus trois' \n",
    "\n",
    "#Transformation de la chaine à traiter en liste de tokens\n",
    "tokens = transcription_operation.split()\n",
    "tokens"
   ]
  },
  {
   "cell_type": "code",
   "execution_count": null,
   "id": "37952aae",
   "metadata": {
    "scrolled": true
   },
   "outputs": [],
   "source": [
    "# Récupération du résultat de l'analyse de la suite de tokens \n",
    "# en fonction de la grammaire qui a permis de générer l'analyseur. \n",
    "\n",
    "resultat_analyse = analyseur_V1.parse(tokens)\n",
    "print(resultat_analyse)\n",
    "# vérification de la validité de la phrase du point de vue de la grammaire et récupération du résultat.\n",
    "# Analyser ma trace qui s'affiche"
   ]
  },
  {
   "cell_type": "raw",
   "id": "869bef15",
   "metadata": {},
   "source": [
    "2.2) Commenter ici le résultat produit par la cellule précédente. \n",
    "..."
   ]
  },
  {
   "cell_type": "markdown",
   "id": "5cd05ea4",
   "metadata": {},
   "source": [
    "## PARTIE 3 :  Extraire l'interprétation et calculer le résultat "
   ]
  },
  {
   "cell_type": "raw",
   "id": "37f83267",
   "metadata": {},
   "source": [
    "3.1) Analyser chacune des fonctions suivantes et commenter "
   ]
  },
  {
   "cell_type": "code",
   "execution_count": 4,
   "id": "a6e420e2",
   "metadata": {},
   "outputs": [],
   "source": [
    "def extraire_interpretation(arbre):\n",
    "    tmp= str(arbre[0])\n",
    "    racine = tmp.split('\\n')\n",
    "    interpretation = racine[0]\n",
    "    print(interpretation)\n",
    "    expression = interpretation[24:len(interpretation) -2]\n",
    "    print('expression = ', expression)\n",
    "    \n",
    "    operation = expression.split(\", \")\n",
    "    print('operation =', operation)\n",
    "    \n",
    "    texte_operation = ' '.join(operation)\n",
    "    \n",
    "    return texte_operation"
   ]
  },
  {
   "cell_type": "code",
   "execution_count": 5,
   "id": "ad5adc48",
   "metadata": {},
   "outputs": [],
   "source": [
    "def calculer(operation):\n",
    "    resultat = eval(operation)\n",
    "    print('resultat = ', operation, ' = ', resultat )\n",
    "    return resultat"
   ]
  },
  {
   "cell_type": "code",
   "execution_count": 6,
   "id": "1adfc4e7",
   "metadata": {},
   "outputs": [],
   "source": [
    "def repondre_vocal(texte_initial, resultat):\n",
    "    # necessite l'installation de espeak pip install espeak - PB d'installation \n",
    "        reponse = texte_initial + \"est égal à \" + \"resultat\"\n",
    "        print(reponse)\n",
    "        os.system(\"espeak -v mb-fr4 reponse \\\" &> /dev/null\")\n"
   ]
  },
  {
   "cell_type": "raw",
   "id": "227b464b",
   "metadata": {},
   "source": [
    "3.2) Exécuter la cellule ci après et commenter le résultat"
   ]
  },
  {
   "cell_type": "code",
   "execution_count": null,
   "id": "cc8d2e45",
   "metadata": {},
   "outputs": [],
   "source": [
    "#Analyse de la phrase à traiter (supposer être le résultat du processus de reconnaissance de la parole TP5)\n",
    "\n",
    "for arbre in resultat_analyse: \n",
    "    print(arbre)\n",
    "    print(\"-------------------\")\n",
    "\n",
    "    operation = extraire_interpretation(arbre)\n",
    "    resultat = calculer(operation)\n",
    "    print(\"resultat = \", resultat )\n",
    "    \n",
    "    #repondre_vocal(transcription_operation, resultat )\n",
    "\n",
    "    print(\"..................................\")\n",
    "    \n",
    "    \n"
   ]
  },
  {
   "cell_type": "code",
   "execution_count": null,
   "id": "f69efe40",
   "metadata": {},
   "outputs": [],
   "source": [
    "# POUR INFO MEME VERSION QUE CI_DESSUS MAIS SANS LES FONCTIONS  - PAS DONNEE AUX ETUDIANTS\n",
    "#Analyse de la phrase à traiter (supposer être le résultat du processus de reconnaissance de la parole TP5)\n",
    "# même chose ais sans les fonction \n",
    "\n",
    "for arbre in resultat_analyse: \n",
    "    print(arbre)\n",
    "    print(\"-------------------\")\n",
    "\n",
    "    print(arbre[0])\n",
    "    tmp= str(arbre[0])\n",
    "    racine = tmp.split('\\n')\n",
    "    interpretation = racine[0]\n",
    "    print(\"..................................\")\n",
    "    print('interpretation=', interpretation)\n",
    "\n",
    "    expression = interpretation[24:len(interpretation) -2]\n",
    "    print('expression = ', expression)\n",
    "    \n",
    "    operation = expression.split(\", \")\n",
    "    print('operation =', operation)\n",
    "    \n",
    "    texte_operation = ' '.join(operation)\n",
    "    resultat = eval(texte_operation)\n",
    "    \n",
    "    print('resultat = ', texte_operation, ' = ',  resultat)\n",
    "    \n",
    "    reponse = transcription_operation + \"est égal à \" + \"resultat\"\n",
    "    #os.system(\"espeak -v mb-fr4 reponse &> /dev/null\")\n",
    "\n",
    "    print(\"..................................\")\n",
    "    \n",
    "    \n",
    "\n",
    "    "
   ]
  },
  {
   "cell_type": "markdown",
   "id": "8f50f8dd",
   "metadata": {},
   "source": [
    "## PARTIE 4 :  Application au résultat de la reconnaissance (processus réalisé en amont)"
   ]
  },
  {
   "cell_type": "raw",
   "id": "6eaeaa45",
   "metadata": {},
   "source": [
    "4.1) Ecrire le code de la fonction interpretation_par_lot qui permette de traiter une suite de commandes reconnues par le processus de reconnaissance de la parole (RAP cf TP5) et supposées stockées dans un fichier texte fourni en entrée (paramètre Nom_Fichier_Resultat_Reco). Le résultat du traitement est sauvegardé dans un fichier texte produit en sortie (paramètre Nom_Fichier_Resultat_Calcul). Le traitement se fait en fonction de l'analyseur (paramètre Analyseur) donnée en paramètre "
   ]
  },
  {
   "cell_type": "code",
   "execution_count": null,
   "id": "f0b9804e",
   "metadata": {},
   "outputs": [],
   "source": [
    "with open(\"RESULTAT_CALCUL_V1.txt\", \"w\") as fic_resultat: \n",
    "    \n",
    "    with open(\"RESULTAT_TRANSCRIPTION_V1.txt\", \"r\") as fic_reco:\n",
    "        for ligne_resultat_reco in fic_reco:\n",
    "            print(\"resultat reco a traiter = \", ligne_resultat_reco)\n",
    "            print(\"======================================\")\n",
    "\n",
    "            tokens = ligne_resultat_reco.split()\n",
    "            print(tokens)\n",
    "            resultat_analyse = analyseur_V1.parse(tokens)\n",
    "        \n",
    "            print(\"-------------------\")\n",
    "    \n",
    "            for arbre in resultat_analyse: \n",
    "                print(arbre)\n",
    "                print(\"-------------------\")\n",
    "\n",
    "                operation = extraire_interpretation(arbre)\n",
    "                resultat = calculer(operation)\n",
    "                print(\"resultat = \", ligne_resultat_reco + \" est égal à \" + str(resultat) + \"\\n\")\n",
    "            \n",
    "                # sauvegarde dans un fichier\n",
    "                fic_resultat.write(ligne_resultat_reco + \" est égal à \" + str(resultat) + \"\\n\" )\n",
    "            \n",
    "                print(\"..................................\")\n",
    "            #os.system(\"espeak -v mb-fr4 \\\"Le resultat est \"+str(resultat)+\" \\\" &> /dev/null\")\n",
    "            print(\".........................\")\n",
    "            \n",
    "        \n",
    "    fic_reco.close()\n",
    "fic_resultat.close()"
   ]
  },
  {
   "cell_type": "code",
   "execution_count": 7,
   "id": "7d2e19d4",
   "metadata": {},
   "outputs": [],
   "source": [
    "def interpretation_par_lot (Nom_Fichier_Resultat_Reco, Nom_Fichier_Resultat_Calcul, Analyseur):\n",
    "    \n",
    "    with open(Nom_Fichier_Resultat_Calcul, \"w\") as fic_resultat: \n",
    "    \n",
    "        with open(Nom_Fichier_Resultat_Reco, \"r\") as fic_reco:\n",
    "            nb_calcul = 0\n",
    "            for ligne_resultat_reco in fic_reco:\n",
    "                print(\"resultat reco a traiter = \", ligne_resultat_reco)\n",
    "                print(\"======================================\")\n",
    "\n",
    "                tokens = ligne_resultat_reco.split()\n",
    "                print(tokens)\n",
    "                resultat_analyse = Analyseur.parse(tokens)\n",
    "        \n",
    "                print(\"-------------------\")\n",
    "    \n",
    "                for arbre in resultat_analyse: \n",
    "                    print(arbre)\n",
    "                    print(\"-------------------\")\n",
    "\n",
    "                    operation = extraire_interpretation(arbre)\n",
    "                    resultat = calculer(operation)\n",
    "                    print(\"resultat = \", ligne_resultat_reco + \" est égal à \" + str(resultat) + \"\\n\")\n",
    "            \n",
    "                    # sauvegarde dans un fichier\n",
    "                    fic_resultat.write(ligne_resultat_reco + \" est égal à \" + str(resultat) + \"\\n\" )\n",
    "                    nb_calcul +=1\n",
    "            \n",
    "                print(\"..................................\")\n",
    "            #os.system(\"espeak -v mb-fr4 \\\"Le resultat est \"+str(resultat)+\" \\\" &> /dev/null\")\n",
    "            print(\".........................\")\n",
    "            \n",
    "        \n",
    "        fic_reco.close()\n",
    "    fic_resultat.close()\n",
    "\n",
    "    return nb_calcul\n"
   ]
  },
  {
   "cell_type": "raw",
   "id": "37d9a9cb",
   "metadata": {},
   "source": [
    "4.2) Appliquer et analyser le résultat. "
   ]
  },
  {
   "cell_type": "code",
   "execution_count": null,
   "id": "7ebc6cea",
   "metadata": {},
   "outputs": [],
   "source": [
    "nb_commande = interpretation_par_lot (\"RESULTAT_TRANSCRIPTION_V1.txt\", \"RESULTAT_CALCUL_V1.txt\", analyseur_V1)\n",
    "if nb_commande:\n",
    "    print(\"Nombre de commandes exécutées : \", nb_commande)\n",
    "else: \n",
    "    print(\"Aucun calcul valide\")"
   ]
  },
  {
   "cell_type": "raw",
   "id": "bb17b631",
   "metadata": {},
   "source": [
    "4.3) Visualiser le contenu de RESULTAT_CALCUL_V1.txt"
   ]
  },
  {
   "cell_type": "code",
   "execution_count": null,
   "id": "019e4346",
   "metadata": {},
   "outputs": [],
   "source": [
    "!cat RESULTAT_CALCUL_V1.txt"
   ]
  },
  {
   "cell_type": "markdown",
   "id": "b1bdbff4",
   "metadata": {},
   "source": [
    "## PARTIE 5 : Evolution de la grammaire"
   ]
  },
  {
   "cell_type": "raw",
   "id": "e7b73c49",
   "metadata": {},
   "source": [
    "5.1) Proposer une version enrichie de la grammaire GRAMMAIRE_OPERATION_V2.fcfg pour traiter des opérations plus complexes comme celles contenues dans le fichier RESULTAT_TRANSCRIPTION_V2.txt\n",
    "\n",
    "Cosidérer multiplié par comme un seul mot multiplié_par, idem pour divisé_par ou au_carré\n",
    "\n",
    "# autres opérateurs binaires = nécessitant 2 opérandes \n",
    "\n",
    "cinq fois sept\n",
    "vingt divisé par cinq\n",
    "cinq multiplié par dix\n",
    "deux puissance huit\n",
    "\n",
    "# autres nombres\n",
    "trente multiplié par trois\n",
    "cent divisé par cinq\n",
    "onze plus neuf\n",
    "\n",
    "# opérateur uninaire = ne nécessitant qu'un seul opérande\n",
    "trois au carré\n",
    "moins trois \n",
    "racine carée de neuf\n",
    "\n",
    "# puis des opérations plus complexes du type : \n",
    "\n",
    "six plus trois fois dix\n",
    "trente fois dix divisé par six\n",
    "\n",
    "#ATTENTION : Avancer progressivement - difficile à débugguer sinon. Créer des versions intermédiaires V2.1, V2.2, V2.3, etc "
   ]
  },
  {
   "cell_type": "raw",
   "id": "ea6bcdb2",
   "metadata": {},
   "source": [
    "5.2) Adapter votre code pour pouvoir réaliser les opérations correspondantes"
   ]
  },
  {
   "cell_type": "code",
   "execution_count": null,
   "id": "19a47f0c",
   "metadata": {},
   "outputs": [],
   "source": [
    "# Chargement de la nouvelle version de votre grammaire\n",
    "nom_fichier_grammaire_V2 = 'GRAMMAIRE_OPERATION_V2.fcfg'\n",
    "\n",
    "# Visualisation du contenu de la grammaire\n",
    "data.show_cfg(nom_fichier_grammaire_V2)"
   ]
  },
  {
   "cell_type": "code",
   "execution_count": null,
   "id": "03a0da97",
   "metadata": {},
   "outputs": [],
   "source": [
    "# Création d'un analyseur basé sur la grammaire nouvelle grammaire chargée\n",
    "# version avec un niveau de tracde détaillé\n",
    "analyseur_V2 = parse.load_parser(nom_fichier_grammaire_V2, trace=2)\n",
    "\n",
    "# version sans niveau de trace\n",
    "#analyseur_notrace = parse.load_parser(nom_fichier_grammaire)"
   ]
  },
  {
   "cell_type": "code",
   "execution_count": null,
   "id": "6875867e",
   "metadata": {},
   "outputs": [],
   "source": [
    "# Donner la suite de mots en entrée de l'analyseur pour récupérer le résultat du traitement\n",
    "# vérification de la validité de la phrase du point de vue de la grammaire et récupération du résultat.\n",
    "\n",
    "#resultat_analyse = analyseur_trace2.parse(tokens)\n",
    "resultat_analyse_V2 = analyseur_V2.parse(tokens)\n",
    "#print(resultat_analyse_V2)"
   ]
  },
  {
   "cell_type": "code",
   "execution_count": null,
   "id": "fb7b8cae",
   "metadata": {},
   "outputs": [],
   "source": [
    "nb_commande = interpretation_par_lot (\"RESULTAT_TRANSCRIPTION_V2.txt\", \"RESULTAT_CALCUL_V2.txt\", analyseur_V2)\n",
    "if nb_commande:\n",
    "    print(\"Nombre de commandes exécutées : \", nb_commande)\n",
    "else: \n",
    "    print(\"Aucun calcul valide\")"
   ]
  },
  {
   "cell_type": "code",
   "execution_count": null,
   "id": "d3b02c16",
   "metadata": {},
   "outputs": [],
   "source": [
    "!more RESULTAT_CALCUL_V2.txt"
   ]
  },
  {
   "cell_type": "code",
   "execution_count": null,
   "id": "2336f441",
   "metadata": {},
   "outputs": [],
   "source": [
    "# Chargement de la nouvelle version de votre grammaire\n",
    "nom_fichier_grammaire_V3 = 'GRAMMAIRE_OPERATION_V3.fcfg'\n",
    "\n",
    "# Visualisation du contenu de la grammaire\n",
    "data.show_cfg(nom_fichier_grammaire_V3)"
   ]
  },
  {
   "cell_type": "code",
   "execution_count": null,
   "id": "39e9edbb",
   "metadata": {},
   "outputs": [],
   "source": [
    "# Création d'un analyseur basé sur la grammaire nouvelle grammaire chargée\n",
    "# version avec un niveau de tracde détaillé\n",
    "analyseur_V3 = parse.load_parser(nom_fichier_grammaire_V3, trace=2)\n",
    "\n",
    "# version sans niveau de trace\n",
    "#analyseur_notrace = parse.load_parser(nom_fichier_grammaire)\n",
    "\n",
    "# Exemple de chaine à traiter \n",
    "transcription_operation_V3 = 'cinquante fois cent'\n",
    "\n",
    "#Transformation de la chaine à traiter en liste de tokens\n",
    "tokens = transcription_operation_V3.split()\n",
    "tokens\n",
    "\n",
    "# Donner la suite de mots en entrée de l'analyseur pour récupérer le résultat du traitement\n",
    "# vérification de la validité de la phrase du point de vue de la grammaire et récupération du résultat.\n",
    "\n",
    "#resultat_analyse = analyseur_trace2.parse(tokens)\n",
    "resultat_analyse_V3 = analyseur_V3.parse(tokens)\n",
    "#print(resultat_analyse_V2)"
   ]
  },
  {
   "cell_type": "code",
   "execution_count": null,
   "id": "1216bd34",
   "metadata": {},
   "outputs": [],
   "source": [
    "nb_commande = interpretation_par_lot (\"RESULTAT_TRANSCRIPTION_V3.txt\", \"RESULTAT_CALCUL_V3.txt\", analyseur_V3)\n",
    "if nb_commande:\n",
    "    print(\"Nombre de commandes exécutées : \", nb_commande)\n",
    "else: \n",
    "    print(\"Aucun calcul valide\")"
   ]
  },
  {
   "cell_type": "code",
   "execution_count": null,
   "id": "5f02d367",
   "metadata": {},
   "outputs": [],
   "source": [
    "!more RESULTAT_CALCUL_V3.txt"
   ]
  },
  {
   "cell_type": "code",
   "execution_count": null,
   "id": "2aa33988",
   "metadata": {},
   "outputs": [],
   "source": [
    "# Chargement de la nouvelle version de votre grammaire\n",
    "nom_fichier_grammaire_V4 = 'GRAMMAIRE_OPERATION_V4.fcfg'\n",
    "\n",
    "# Visualisation du contenu de la grammaire\n",
    "data.show_cfg(nom_fichier_grammaire_V4)\n",
    "\n"
   ]
  },
  {
   "cell_type": "code",
   "execution_count": null,
   "id": "af0e9bf7",
   "metadata": {},
   "outputs": [],
   "source": [
    "# Création d'un analyseur basé sur la grammaire nouvelle grammaire chargée\n",
    "# version avec un niveau de tracde détaillé\n",
    "# pas complètement vérifié ... \n",
    "# le cas cent moins dix au_carré ne marche pas ... \n",
    "\n",
    "\n",
    "analyseur_V4 = parse.load_parser(nom_fichier_grammaire_V4, trace=2)\n",
    "\n",
    "nb_commande = interpretation_par_lot (\"RESULTAT_TRANSCRIPTION_V4.txt\", \"RESULTAT_CALCUL_V4.txt\", analyseur_V4)\n",
    "if nb_commande:\n",
    "    print(\"Nombre de commandes exécutées : \", nb_commande)\n",
    "else: \n",
    "    print(\"Aucun calcul valide\")\n",
    "    \n",
    "    \n",
    "## ATTENTION les résultat tiennent compte de la priorité des opérateurs \n"
   ]
  },
  {
   "cell_type": "code",
   "execution_count": null,
   "id": "66ca2f43",
   "metadata": {},
   "outputs": [],
   "source": [
    "!more RESULTAT_CALCUL_V4.txt"
   ]
  },
  {
   "cell_type": "code",
   "execution_count": 8,
   "id": "53e01caa",
   "metadata": {},
   "outputs": [
    {
     "name": "stdout",
     "output_type": "stream",
     "text": [
      "%start OPERATION\n",
      "OPERATION -> CALCUL_A_FAIRE[INTERP=?i]\n",
      "CALCUL_A_FAIRE[INTERP=(?n1+?o)] -> NOMBRE[SEM=?n1] OPERATEUR_UNAIRE_AV[SEM=?o]\n",
      "CALCUL_A_FAIRE[INTERP=(?n1+?o)] -> OPERATEUR_UNAIRE_AP[SEM=?o] NOMBRE[SEM=?n1]\n",
      "CALCUL_A_FAIRE[INTERP=(?n1+?o+?n2)] -> NOMBRE[SEM=?n1] OPERATEUR[SEM=?o] NOMBRE[SEM=?n2]\n",
      "CALCUL_A_FAIRE[INTERP=(?n1+?o1+?o2+?n2)] -> NOMBRE[SEM=?n1] OPERATEUR_UNAIRE_AV[SEM=?o] OPERATEUR[SEM=?o2] NOMBRE[SEM=?n2]\n",
      "CALCUL_A_FAIRE[INTERP=(?n1+?o1+?o2+?n2)] -> OPERATEUR_UNAIRE_AP[SEM=?o1] NOMBRE[SEM=?n1] OPERATEUR[SEM=?o2] NOMBRE[SEM=?n2]\n",
      "CALCUL_A_FAIRE[INTERP=(?n1+?o1+?n2+?o2+?n3)] -> NOMBRE[SEM=?n1] OPERATEUR[SEM=?o1] NOMBRE[SEM=?n2] OPERATEUR[SEM=?o2] NOMBRE[SEM=?n3]\n",
      "CHIFFRE[SEM='0'] -> 'zero'\n",
      "CHIFFRE[SEM='1'] -> 'un'\n",
      "CHIFFRE[SEM='2'] -> 'deux'\n",
      "CHIFFRE[SEM='3'] -> 'trois'\n",
      "CHIFFRE[SEM='4'] -> 'quatre'\n",
      "CHIFFRE[SEM='5'] -> 'cinq'\n",
      "CHIFFRE[SEM='6'] -> 'six'\n",
      "CHIFFRE[SEM='7'] -> 'sept'\n",
      "CHIFFRE[SEM='8'] -> 'huit'\n",
      "CHIFFRE[SEM='9'] -> 'neuf'\n",
      "DIZAINE[SEM='10'] -> 'dix'\n",
      "DIZAINE[SEM='20'] -> 'vingt'\n",
      "DIZAINE[SEM='30'] -> 'trente'\n",
      "DIZAINE[SEM='40'] -> 'quarante'\n",
      "DIZAINE[SEM='50'] -> 'cinquante'\n",
      "DIZAINE[SEM='60'] -> 'soixante'\n",
      "DIZAINE[SEM='70'] -> 'soixante_dix'\n",
      "DIZAINE[SEM='80'] -> 'quatre-vingt'\n",
      "DIZAINE[SEM='90'] -> 'quatre-vingt_dix'\n",
      "CENTAINE[SEM='100'] -> 'cent'\n",
      "NOMBRE[SEM=?sem] -> CHIFFRE[SEM=?sem]\n",
      "NOMBRE[SEM=?sem] -> DIZAINE[SEM=?sem]\n",
      "NOMBRE[SEM=?sem] -> CENTAINE[SEM=?sem]\n",
      "OPERATEUR[SEM='+'] -> 'plus'\n",
      "OPERATEUR[SEM='-'] -> 'moins'\n",
      "OPERATEUR[SEM='*'] -> 'fois'\n",
      "OPERATEUR[SEM='*'] -> 'multiplié_par'\n",
      "OPERATEUR[SEM='**'] -> 'puissance'\n",
      "OPERATEUR[SEM='/'] -> 'divisé_par'\n",
      "OPERATEUR_UNAIRE_AV[SEM='** 2'] -> 'au_carré'\n",
      "OPERATEUR_UNAIRE_AP[SEM='* -1'] -> 'moins'\n",
      "OPERATEUR_UNAIRE_AP[SEM='** 0.5'] -> 'racine_carrée_de'\n"
     ]
    }
   ],
   "source": [
    "# Chargement de la nouvelle version de votre grammaire\n",
    "nom_fichier_grammaire_V5 = 'GRAMMAIRE_OPERATION_V5.fcfg'\n",
    "\n",
    "# Visualisation du contenu de la grammaire\n",
    "data.show_cfg(nom_fichier_grammaire_V5)\n"
   ]
  },
  {
   "cell_type": "code",
   "execution_count": 9,
   "id": "41992107",
   "metadata": {},
   "outputs": [
    {
     "name": "stdout",
     "output_type": "stream",
     "text": [
      "resultat reco a traiter =  six plus trois fois dix\n",
      "\n",
      "======================================\n",
      "['six', 'plus', 'trois', 'fois', 'dix']\n",
      "|.si.pl.tr.fo.di.|\n",
      "Leaf Init Rule:\n",
      "|[--]  .  .  .  .| [0:1] 'six'\n",
      "|.  [--]  .  .  .| [1:2] 'plus'\n",
      "|.  .  [--]  .  .| [2:3] 'trois'\n",
      "|.  .  .  [--]  .| [3:4] 'fois'\n",
      "|.  .  .  .  [--]| [4:5] 'dix'\n",
      "Feature Bottom Up Predict Combine Rule:\n",
      "|[--]  .  .  .  .| [0:1] CHIFFRE[SEM='6'] -> 'six' *\n",
      "Feature Bottom Up Predict Combine Rule:\n",
      "|[--]  .  .  .  .| [0:1] NOMBRE[SEM='6'] -> CHIFFRE[SEM='6'] *\n",
      "Feature Bottom Up Predict Combine Rule:\n",
      "|[-->  .  .  .  .| [0:1] CALCUL_A_FAIRE[INTERP=(?n1+?o)] -> NOMBRE[SEM=?n1] * OPERATEUR_UNAIRE_AV[SEM=?o] {?n1: '6'}\n",
      "|[-->  .  .  .  .| [0:1] CALCUL_A_FAIRE[INTERP=(?n1+?o+?n2)] -> NOMBRE[SEM=?n1] * OPERATEUR[SEM=?o] NOMBRE[SEM=?n2] {?n1: '6'}\n",
      "|[-->  .  .  .  .| [0:1] CALCUL_A_FAIRE[INTERP=(?n1+?o1+?o2+?n2)] -> NOMBRE[SEM=?n1] * OPERATEUR_UNAIRE_AV[SEM=?o] OPERATEUR[SEM=?o2] NOMBRE[SEM=?n2] {?n1: '6'}\n",
      "|[-->  .  .  .  .| [0:1] CALCUL_A_FAIRE[INTERP=(?n1+?o1+?n2+?o2+?n3)] -> NOMBRE[SEM=?n1] * OPERATEUR[SEM=?o1] NOMBRE[SEM=?n2] OPERATEUR[SEM=?o2] NOMBRE[SEM=?n3] {?n1: '6'}\n",
      "Feature Bottom Up Predict Combine Rule:\n",
      "|.  [--]  .  .  .| [1:2] OPERATEUR[SEM='+'] -> 'plus' *\n",
      "Feature Single Edge Fundamental Rule:\n",
      "|[----->  .  .  .| [0:2] CALCUL_A_FAIRE[INTERP=(?n1+?o+?n2)] -> NOMBRE[SEM=?n1] OPERATEUR[SEM=?o] * NOMBRE[SEM=?n2] {?n1: '6', ?o: '+'}\n",
      "|[----->  .  .  .| [0:2] CALCUL_A_FAIRE[INTERP=(?n1+?o1+?n2+?o2+?n3)] -> NOMBRE[SEM=?n1] OPERATEUR[SEM=?o1] * NOMBRE[SEM=?n2] OPERATEUR[SEM=?o2] NOMBRE[SEM=?n3] {?n1: '6', ?o1: '+'}\n",
      "Feature Bottom Up Predict Combine Rule:\n",
      "|.  .  [--]  .  .| [2:3] CHIFFRE[SEM='3'] -> 'trois' *\n",
      "Feature Bottom Up Predict Combine Rule:\n",
      "|.  .  [--]  .  .| [2:3] NOMBRE[SEM='3'] -> CHIFFRE[SEM='3'] *\n",
      "Feature Bottom Up Predict Combine Rule:\n",
      "|.  .  [-->  .  .| [2:3] CALCUL_A_FAIRE[INTERP=(?n1+?o)] -> NOMBRE[SEM=?n1] * OPERATEUR_UNAIRE_AV[SEM=?o] {?n1: '3'}\n",
      "|.  .  [-->  .  .| [2:3] CALCUL_A_FAIRE[INTERP=(?n1+?o+?n2)] -> NOMBRE[SEM=?n1] * OPERATEUR[SEM=?o] NOMBRE[SEM=?n2] {?n1: '3'}\n",
      "|.  .  [-->  .  .| [2:3] CALCUL_A_FAIRE[INTERP=(?n1+?o1+?o2+?n2)] -> NOMBRE[SEM=?n1] * OPERATEUR_UNAIRE_AV[SEM=?o] OPERATEUR[SEM=?o2] NOMBRE[SEM=?n2] {?n1: '3'}\n",
      "|.  .  [-->  .  .| [2:3] CALCUL_A_FAIRE[INTERP=(?n1+?o1+?n2+?o2+?n3)] -> NOMBRE[SEM=?n1] * OPERATEUR[SEM=?o1] NOMBRE[SEM=?n2] OPERATEUR[SEM=?o2] NOMBRE[SEM=?n3] {?n1: '3'}\n",
      "Feature Single Edge Fundamental Rule:\n",
      "|[--------]  .  .| [0:3] CALCUL_A_FAIRE[INTERP=(6, +, 3)] -> NOMBRE[SEM='6'] OPERATEUR[SEM='+'] NOMBRE[SEM='3'] *\n",
      "|[-------->  .  .| [0:3] CALCUL_A_FAIRE[INTERP=(?n1+?o1+?n2+?o2+?n3)] -> NOMBRE[SEM=?n1] OPERATEUR[SEM=?o1] NOMBRE[SEM=?n2] * OPERATEUR[SEM=?o2] NOMBRE[SEM=?n3] {?n1: '6', ?n2: '3', ?o1: '+'}\n",
      "Feature Bottom Up Predict Combine Rule:\n",
      "|[--------]  .  .| [0:3] OPERATION[] -> CALCUL_A_FAIRE[INTERP=(6, +, 3)] *\n",
      "Feature Bottom Up Predict Combine Rule:\n",
      "|.  .  .  [--]  .| [3:4] OPERATEUR[SEM='*'] -> 'fois' *\n",
      "Feature Single Edge Fundamental Rule:\n",
      "|.  .  [----->  .| [2:4] CALCUL_A_FAIRE[INTERP=(?n1+?o+?n2)] -> NOMBRE[SEM=?n1] OPERATEUR[SEM=?o] * NOMBRE[SEM=?n2] {?n1: '3', ?o: '*'}\n",
      "|.  .  [----->  .| [2:4] CALCUL_A_FAIRE[INTERP=(?n1+?o1+?n2+?o2+?n3)] -> NOMBRE[SEM=?n1] OPERATEUR[SEM=?o1] * NOMBRE[SEM=?n2] OPERATEUR[SEM=?o2] NOMBRE[SEM=?n3] {?n1: '3', ?o1: '*'}\n",
      "|[----------->  .| [0:4] CALCUL_A_FAIRE[INTERP=(?n1+?o1+?n2+?o2+?n3)] -> NOMBRE[SEM=?n1] OPERATEUR[SEM=?o1] NOMBRE[SEM=?n2] OPERATEUR[SEM=?o2] * NOMBRE[SEM=?n3] {?n1: '6', ?n2: '3', ?o1: '+', ?o2: '*'}\n",
      "Feature Bottom Up Predict Combine Rule:\n",
      "|.  .  .  .  [--]| [4:5] DIZAINE[SEM='10'] -> 'dix' *\n",
      "Feature Bottom Up Predict Combine Rule:\n",
      "|.  .  .  .  [--]| [4:5] NOMBRE[SEM='10'] -> DIZAINE[SEM='10'] *\n",
      "Feature Bottom Up Predict Combine Rule:\n",
      "|.  .  .  .  [-->| [4:5] CALCUL_A_FAIRE[INTERP=(?n1+?o)] -> NOMBRE[SEM=?n1] * OPERATEUR_UNAIRE_AV[SEM=?o] {?n1: '10'}\n",
      "|.  .  .  .  [-->| [4:5] CALCUL_A_FAIRE[INTERP=(?n1+?o+?n2)] -> NOMBRE[SEM=?n1] * OPERATEUR[SEM=?o] NOMBRE[SEM=?n2] {?n1: '10'}\n",
      "|.  .  .  .  [-->| [4:5] CALCUL_A_FAIRE[INTERP=(?n1+?o1+?o2+?n2)] -> NOMBRE[SEM=?n1] * OPERATEUR_UNAIRE_AV[SEM=?o] OPERATEUR[SEM=?o2] NOMBRE[SEM=?n2] {?n1: '10'}\n",
      "|.  .  .  .  [-->| [4:5] CALCUL_A_FAIRE[INTERP=(?n1+?o1+?n2+?o2+?n3)] -> NOMBRE[SEM=?n1] * OPERATEUR[SEM=?o1] NOMBRE[SEM=?n2] OPERATEUR[SEM=?o2] NOMBRE[SEM=?n3] {?n1: '10'}\n",
      "Feature Single Edge Fundamental Rule:\n",
      "|.  .  [--------]| [2:5] CALCUL_A_FAIRE[INTERP=(3, *, 10)] -> NOMBRE[SEM='3'] OPERATEUR[SEM='*'] NOMBRE[SEM='10'] *\n",
      "|.  .  [-------->| [2:5] CALCUL_A_FAIRE[INTERP=(?n1+?o1+?n2+?o2+?n3)] -> NOMBRE[SEM=?n1] OPERATEUR[SEM=?o1] NOMBRE[SEM=?n2] * OPERATEUR[SEM=?o2] NOMBRE[SEM=?n3] {?n1: '3', ?n2: '10', ?o1: '*'}\n",
      "|[==============]| [0:5] CALCUL_A_FAIRE[INTERP=(6, +, 3, *, 10)] -> NOMBRE[SEM='6'] OPERATEUR[SEM='+'] NOMBRE[SEM='3'] OPERATEUR[SEM='*'] NOMBRE[SEM='10'] *\n",
      "Feature Bottom Up Predict Combine Rule:\n",
      "|[==============]| [0:5] OPERATION[] -> CALCUL_A_FAIRE[INTERP=(6, +, 3, *, 10)] *\n",
      "Feature Bottom Up Predict Combine Rule:\n",
      "|.  .  [--------]| [2:5] OPERATION[] -> CALCUL_A_FAIRE[INTERP=(3, *, 10)] *\n",
      "-------------------\n",
      "(OPERATION[]\n",
      "  (CALCUL_A_FAIRE[INTERP=(6, +, 3, *, 10)]\n",
      "    (NOMBRE[SEM='6'] (CHIFFRE[SEM='6'] six))\n",
      "    (OPERATEUR[SEM='+'] plus)\n",
      "    (NOMBRE[SEM='3'] (CHIFFRE[SEM='3'] trois))\n",
      "    (OPERATEUR[SEM='*'] fois)\n",
      "    (NOMBRE[SEM='10'] (DIZAINE[SEM='10'] dix))))\n",
      "-------------------\n",
      "(CALCUL_A_FAIRE[INTERP=(6, +, 3, *, 10)]\n",
      "expression =  6, +, 3, *, 10\n",
      "operation = ['6', '+', '3', '*', '10']\n",
      "resultat =  6 + 3 * 10  =  36\n",
      "resultat =  six plus trois fois dix\n",
      " est égal à 36\n",
      "\n",
      "..................................\n",
      "resultat reco a traiter =  trente fois dix divisé_par six\n",
      "\n",
      "======================================\n",
      "['trente', 'fois', 'dix', 'divisé_par', 'six']\n",
      "|.tr.fo.di.di.si.|\n",
      "Leaf Init Rule:\n",
      "|[--]  .  .  .  .| [0:1] 'trente'\n",
      "|.  [--]  .  .  .| [1:2] 'fois'\n",
      "|.  .  [--]  .  .| [2:3] 'dix'\n",
      "|.  .  .  [--]  .| [3:4] 'divisé_par'\n",
      "|.  .  .  .  [--]| [4:5] 'six'\n",
      "Feature Bottom Up Predict Combine Rule:\n",
      "|[--]  .  .  .  .| [0:1] DIZAINE[SEM='30'] -> 'trente' *\n",
      "Feature Bottom Up Predict Combine Rule:\n",
      "|[--]  .  .  .  .| [0:1] NOMBRE[SEM='30'] -> DIZAINE[SEM='30'] *\n",
      "Feature Bottom Up Predict Combine Rule:\n",
      "|[-->  .  .  .  .| [0:1] CALCUL_A_FAIRE[INTERP=(?n1+?o)] -> NOMBRE[SEM=?n1] * OPERATEUR_UNAIRE_AV[SEM=?o] {?n1: '30'}\n",
      "|[-->  .  .  .  .| [0:1] CALCUL_A_FAIRE[INTERP=(?n1+?o+?n2)] -> NOMBRE[SEM=?n1] * OPERATEUR[SEM=?o] NOMBRE[SEM=?n2] {?n1: '30'}\n",
      "|[-->  .  .  .  .| [0:1] CALCUL_A_FAIRE[INTERP=(?n1+?o1+?o2+?n2)] -> NOMBRE[SEM=?n1] * OPERATEUR_UNAIRE_AV[SEM=?o] OPERATEUR[SEM=?o2] NOMBRE[SEM=?n2] {?n1: '30'}\n",
      "|[-->  .  .  .  .| [0:1] CALCUL_A_FAIRE[INTERP=(?n1+?o1+?n2+?o2+?n3)] -> NOMBRE[SEM=?n1] * OPERATEUR[SEM=?o1] NOMBRE[SEM=?n2] OPERATEUR[SEM=?o2] NOMBRE[SEM=?n3] {?n1: '30'}\n",
      "Feature Bottom Up Predict Combine Rule:\n",
      "|.  [--]  .  .  .| [1:2] OPERATEUR[SEM='*'] -> 'fois' *\n",
      "Feature Single Edge Fundamental Rule:\n",
      "|[----->  .  .  .| [0:2] CALCUL_A_FAIRE[INTERP=(?n1+?o+?n2)] -> NOMBRE[SEM=?n1] OPERATEUR[SEM=?o] * NOMBRE[SEM=?n2] {?n1: '30', ?o: '*'}\n",
      "|[----->  .  .  .| [0:2] CALCUL_A_FAIRE[INTERP=(?n1+?o1+?n2+?o2+?n3)] -> NOMBRE[SEM=?n1] OPERATEUR[SEM=?o1] * NOMBRE[SEM=?n2] OPERATEUR[SEM=?o2] NOMBRE[SEM=?n3] {?n1: '30', ?o1: '*'}\n",
      "Feature Bottom Up Predict Combine Rule:\n",
      "|.  .  [--]  .  .| [2:3] DIZAINE[SEM='10'] -> 'dix' *\n",
      "Feature Bottom Up Predict Combine Rule:\n",
      "|.  .  [--]  .  .| [2:3] NOMBRE[SEM='10'] -> DIZAINE[SEM='10'] *\n",
      "Feature Bottom Up Predict Combine Rule:\n",
      "|.  .  [-->  .  .| [2:3] CALCUL_A_FAIRE[INTERP=(?n1+?o)] -> NOMBRE[SEM=?n1] * OPERATEUR_UNAIRE_AV[SEM=?o] {?n1: '10'}\n",
      "|.  .  [-->  .  .| [2:3] CALCUL_A_FAIRE[INTERP=(?n1+?o+?n2)] -> NOMBRE[SEM=?n1] * OPERATEUR[SEM=?o] NOMBRE[SEM=?n2] {?n1: '10'}\n",
      "|.  .  [-->  .  .| [2:3] CALCUL_A_FAIRE[INTERP=(?n1+?o1+?o2+?n2)] -> NOMBRE[SEM=?n1] * OPERATEUR_UNAIRE_AV[SEM=?o] OPERATEUR[SEM=?o2] NOMBRE[SEM=?n2] {?n1: '10'}\n",
      "|.  .  [-->  .  .| [2:3] CALCUL_A_FAIRE[INTERP=(?n1+?o1+?n2+?o2+?n3)] -> NOMBRE[SEM=?n1] * OPERATEUR[SEM=?o1] NOMBRE[SEM=?n2] OPERATEUR[SEM=?o2] NOMBRE[SEM=?n3] {?n1: '10'}\n",
      "Feature Single Edge Fundamental Rule:\n",
      "|[--------]  .  .| [0:3] CALCUL_A_FAIRE[INTERP=(30, *, 10)] -> NOMBRE[SEM='30'] OPERATEUR[SEM='*'] NOMBRE[SEM='10'] *\n",
      "|[-------->  .  .| [0:3] CALCUL_A_FAIRE[INTERP=(?n1+?o1+?n2+?o2+?n3)] -> NOMBRE[SEM=?n1] OPERATEUR[SEM=?o1] NOMBRE[SEM=?n2] * OPERATEUR[SEM=?o2] NOMBRE[SEM=?n3] {?n1: '30', ?n2: '10', ?o1: '*'}\n",
      "Feature Bottom Up Predict Combine Rule:\n",
      "|[--------]  .  .| [0:3] OPERATION[] -> CALCUL_A_FAIRE[INTERP=(30, *, 10)] *\n",
      "Feature Bottom Up Predict Combine Rule:\n",
      "|.  .  .  [--]  .| [3:4] OPERATEUR[SEM='/'] -> 'divisé_par' *\n",
      "Feature Single Edge Fundamental Rule:\n",
      "|.  .  [----->  .| [2:4] CALCUL_A_FAIRE[INTERP=(?n1+?o+?n2)] -> NOMBRE[SEM=?n1] OPERATEUR[SEM=?o] * NOMBRE[SEM=?n2] {?n1: '10', ?o: '/'}\n",
      "|.  .  [----->  .| [2:4] CALCUL_A_FAIRE[INTERP=(?n1+?o1+?n2+?o2+?n3)] -> NOMBRE[SEM=?n1] OPERATEUR[SEM=?o1] * NOMBRE[SEM=?n2] OPERATEUR[SEM=?o2] NOMBRE[SEM=?n3] {?n1: '10', ?o1: '/'}\n",
      "|[----------->  .| [0:4] CALCUL_A_FAIRE[INTERP=(?n1+?o1+?n2+?o2+?n3)] -> NOMBRE[SEM=?n1] OPERATEUR[SEM=?o1] NOMBRE[SEM=?n2] OPERATEUR[SEM=?o2] * NOMBRE[SEM=?n3] {?n1: '30', ?n2: '10', ?o1: '*', ?o2: '/'}\n",
      "Feature Bottom Up Predict Combine Rule:\n",
      "|.  .  .  .  [--]| [4:5] CHIFFRE[SEM='6'] -> 'six' *\n",
      "Feature Bottom Up Predict Combine Rule:\n",
      "|.  .  .  .  [--]| [4:5] NOMBRE[SEM='6'] -> CHIFFRE[SEM='6'] *\n",
      "Feature Bottom Up Predict Combine Rule:\n",
      "|.  .  .  .  [-->| [4:5] CALCUL_A_FAIRE[INTERP=(?n1+?o)] -> NOMBRE[SEM=?n1] * OPERATEUR_UNAIRE_AV[SEM=?o] {?n1: '6'}\n",
      "|.  .  .  .  [-->| [4:5] CALCUL_A_FAIRE[INTERP=(?n1+?o+?n2)] -> NOMBRE[SEM=?n1] * OPERATEUR[SEM=?o] NOMBRE[SEM=?n2] {?n1: '6'}\n",
      "|.  .  .  .  [-->| [4:5] CALCUL_A_FAIRE[INTERP=(?n1+?o1+?o2+?n2)] -> NOMBRE[SEM=?n1] * OPERATEUR_UNAIRE_AV[SEM=?o] OPERATEUR[SEM=?o2] NOMBRE[SEM=?n2] {?n1: '6'}\n",
      "|.  .  .  .  [-->| [4:5] CALCUL_A_FAIRE[INTERP=(?n1+?o1+?n2+?o2+?n3)] -> NOMBRE[SEM=?n1] * OPERATEUR[SEM=?o1] NOMBRE[SEM=?n2] OPERATEUR[SEM=?o2] NOMBRE[SEM=?n3] {?n1: '6'}\n",
      "Feature Single Edge Fundamental Rule:\n",
      "|.  .  [--------]| [2:5] CALCUL_A_FAIRE[INTERP=(10, /, 6)] -> NOMBRE[SEM='10'] OPERATEUR[SEM='/'] NOMBRE[SEM='6'] *\n",
      "|.  .  [-------->| [2:5] CALCUL_A_FAIRE[INTERP=(?n1+?o1+?n2+?o2+?n3)] -> NOMBRE[SEM=?n1] OPERATEUR[SEM=?o1] NOMBRE[SEM=?n2] * OPERATEUR[SEM=?o2] NOMBRE[SEM=?n3] {?n1: '10', ?n2: '6', ?o1: '/'}\n",
      "|[==============]| [0:5] CALCUL_A_FAIRE[INTERP=(30, *, 10, /, 6)] -> NOMBRE[SEM='30'] OPERATEUR[SEM='*'] NOMBRE[SEM='10'] OPERATEUR[SEM='/'] NOMBRE[SEM='6'] *\n",
      "Feature Bottom Up Predict Combine Rule:\n",
      "|[==============]| [0:5] OPERATION[] -> CALCUL_A_FAIRE[INTERP=(30, *, 10, /, 6)] *\n",
      "Feature Bottom Up Predict Combine Rule:\n",
      "|.  .  [--------]| [2:5] OPERATION[] -> CALCUL_A_FAIRE[INTERP=(10, /, 6)] *\n",
      "-------------------\n",
      "(OPERATION[]\n",
      "  (CALCUL_A_FAIRE[INTERP=(30, *, 10, /, 6)]\n",
      "    (NOMBRE[SEM='30'] (DIZAINE[SEM='30'] trente))\n",
      "    (OPERATEUR[SEM='*'] fois)\n",
      "    (NOMBRE[SEM='10'] (DIZAINE[SEM='10'] dix))\n",
      "    (OPERATEUR[SEM='/'] divisé_par)\n",
      "    (NOMBRE[SEM='6'] (CHIFFRE[SEM='6'] six))))\n",
      "-------------------\n",
      "(CALCUL_A_FAIRE[INTERP=(30, *, 10, /, 6)]\n",
      "expression =  30, *, 10, /, 6\n",
      "operation = ['30', '*', '10', '/', '6']\n",
      "resultat =  30 * 10 / 6  =  50.0\n",
      "resultat =  trente fois dix divisé_par six\n",
      " est égal à 50.0\n",
      "\n",
      "..................................\n",
      "resultat reco a traiter =  cent moins dix au_carré\n",
      "\n",
      "======================================\n",
      "['cent', 'moins', 'dix', 'au_carré']\n",
      "|.cen.moi.dix.au_.|\n",
      "Leaf Init Rule:\n",
      "|[---]   .   .   .| [0:1] 'cent'\n",
      "|.   [---]   .   .| [1:2] 'moins'\n",
      "|.   .   [---]   .| [2:3] 'dix'\n",
      "|.   .   .   [---]| [3:4] 'au_carré'\n",
      "Feature Bottom Up Predict Combine Rule:\n",
      "|[---]   .   .   .| [0:1] CENTAINE[SEM='100'] -> 'cent' *\n",
      "Feature Bottom Up Predict Combine Rule:\n",
      "|[---]   .   .   .| [0:1] NOMBRE[SEM='100'] -> CENTAINE[SEM='100'] *\n",
      "Feature Bottom Up Predict Combine Rule:\n",
      "|[--->   .   .   .| [0:1] CALCUL_A_FAIRE[INTERP=(?n1+?o)] -> NOMBRE[SEM=?n1] * OPERATEUR_UNAIRE_AV[SEM=?o] {?n1: '100'}\n",
      "|[--->   .   .   .| [0:1] CALCUL_A_FAIRE[INTERP=(?n1+?o+?n2)] -> NOMBRE[SEM=?n1] * OPERATEUR[SEM=?o] NOMBRE[SEM=?n2] {?n1: '100'}\n",
      "|[--->   .   .   .| [0:1] CALCUL_A_FAIRE[INTERP=(?n1+?o1+?o2+?n2)] -> NOMBRE[SEM=?n1] * OPERATEUR_UNAIRE_AV[SEM=?o] OPERATEUR[SEM=?o2] NOMBRE[SEM=?n2] {?n1: '100'}\n",
      "|[--->   .   .   .| [0:1] CALCUL_A_FAIRE[INTERP=(?n1+?o1+?n2+?o2+?n3)] -> NOMBRE[SEM=?n1] * OPERATEUR[SEM=?o1] NOMBRE[SEM=?n2] OPERATEUR[SEM=?o2] NOMBRE[SEM=?n3] {?n1: '100'}\n",
      "Feature Bottom Up Predict Combine Rule:\n",
      "|.   [---]   .   .| [1:2] OPERATEUR[SEM='-'] -> 'moins' *\n",
      "|.   [---]   .   .| [1:2] OPERATEUR_UNAIRE_AP[SEM='* -1'] -> 'moins' *\n",
      "Feature Bottom Up Predict Combine Rule:\n",
      "|.   [--->   .   .| [1:2] CALCUL_A_FAIRE[INTERP=(?n1+?o)] -> OPERATEUR_UNAIRE_AP[SEM=?o] * NOMBRE[SEM=?n1] {?o: '* -1'}\n",
      "|.   [--->   .   .| [1:2] CALCUL_A_FAIRE[INTERP=(?n1+?o1+?o2+?n2)] -> OPERATEUR_UNAIRE_AP[SEM=?o1] * NOMBRE[SEM=?n1] OPERATEUR[SEM=?o2] NOMBRE[SEM=?n2] {?o1: '* -1'}\n",
      "Feature Single Edge Fundamental Rule:\n",
      "|[------->   .   .| [0:2] CALCUL_A_FAIRE[INTERP=(?n1+?o+?n2)] -> NOMBRE[SEM=?n1] OPERATEUR[SEM=?o] * NOMBRE[SEM=?n2] {?n1: '100', ?o: '-'}\n",
      "|[------->   .   .| [0:2] CALCUL_A_FAIRE[INTERP=(?n1+?o1+?n2+?o2+?n3)] -> NOMBRE[SEM=?n1] OPERATEUR[SEM=?o1] * NOMBRE[SEM=?n2] OPERATEUR[SEM=?o2] NOMBRE[SEM=?n3] {?n1: '100', ?o1: '-'}\n",
      "Feature Bottom Up Predict Combine Rule:\n",
      "|.   .   [---]   .| [2:3] DIZAINE[SEM='10'] -> 'dix' *\n",
      "Feature Bottom Up Predict Combine Rule:\n",
      "|.   .   [---]   .| [2:3] NOMBRE[SEM='10'] -> DIZAINE[SEM='10'] *\n",
      "Feature Bottom Up Predict Combine Rule:\n",
      "|.   .   [--->   .| [2:3] CALCUL_A_FAIRE[INTERP=(?n1+?o)] -> NOMBRE[SEM=?n1] * OPERATEUR_UNAIRE_AV[SEM=?o] {?n1: '10'}\n",
      "|.   .   [--->   .| [2:3] CALCUL_A_FAIRE[INTERP=(?n1+?o+?n2)] -> NOMBRE[SEM=?n1] * OPERATEUR[SEM=?o] NOMBRE[SEM=?n2] {?n1: '10'}\n",
      "|.   .   [--->   .| [2:3] CALCUL_A_FAIRE[INTERP=(?n1+?o1+?o2+?n2)] -> NOMBRE[SEM=?n1] * OPERATEUR_UNAIRE_AV[SEM=?o] OPERATEUR[SEM=?o2] NOMBRE[SEM=?n2] {?n1: '10'}\n",
      "|.   .   [--->   .| [2:3] CALCUL_A_FAIRE[INTERP=(?n1+?o1+?n2+?o2+?n3)] -> NOMBRE[SEM=?n1] * OPERATEUR[SEM=?o1] NOMBRE[SEM=?n2] OPERATEUR[SEM=?o2] NOMBRE[SEM=?n3] {?n1: '10'}\n",
      "Feature Single Edge Fundamental Rule:\n",
      "|.   [-------]   .| [1:3] CALCUL_A_FAIRE[INTERP=(10, * -1)] -> OPERATEUR_UNAIRE_AP[SEM='* -1'] NOMBRE[SEM='10'] *\n",
      "|.   [------->   .| [1:3] CALCUL_A_FAIRE[INTERP=(?n1+?o1+?o2+?n2)] -> OPERATEUR_UNAIRE_AP[SEM=?o1] NOMBRE[SEM=?n1] * OPERATEUR[SEM=?o2] NOMBRE[SEM=?n2] {?n1: '10', ?o1: '* -1'}\n",
      "|[-----------]   .| [0:3] CALCUL_A_FAIRE[INTERP=(100, -, 10)] -> NOMBRE[SEM='100'] OPERATEUR[SEM='-'] NOMBRE[SEM='10'] *\n",
      "|[----------->   .| [0:3] CALCUL_A_FAIRE[INTERP=(?n1+?o1+?n2+?o2+?n3)] -> NOMBRE[SEM=?n1] OPERATEUR[SEM=?o1] NOMBRE[SEM=?n2] * OPERATEUR[SEM=?o2] NOMBRE[SEM=?n3] {?n1: '100', ?n2: '10', ?o1: '-'}\n",
      "Feature Bottom Up Predict Combine Rule:\n",
      "|[-----------]   .| [0:3] OPERATION[] -> CALCUL_A_FAIRE[INTERP=(100, -, 10)] *\n",
      "Feature Bottom Up Predict Combine Rule:\n",
      "|.   [-------]   .| [1:3] OPERATION[] -> CALCUL_A_FAIRE[INTERP=(10, * -1)] *\n",
      "Feature Bottom Up Predict Combine Rule:\n",
      "|.   .   .   [---]| [3:4] OPERATEUR_UNAIRE_AV[SEM='** 2'] -> 'au_carré' *\n",
      "Feature Single Edge Fundamental Rule:\n",
      "|.   .   [-------]| [2:4] CALCUL_A_FAIRE[INTERP=(10, ** 2)] -> NOMBRE[SEM='10'] OPERATEUR_UNAIRE_AV[SEM='** 2'] *\n",
      "|.   .   [------->| [2:4] CALCUL_A_FAIRE[INTERP=(?n1+?o1+?o2+?n2)] -> NOMBRE[SEM=?n1] OPERATEUR_UNAIRE_AV[SEM=?o] * OPERATEUR[SEM=?o2] NOMBRE[SEM=?n2] {?n1: '10', ?o: '** 2'}\n",
      "Feature Bottom Up Predict Combine Rule:\n",
      "|.   .   [-------]| [2:4] OPERATION[] -> CALCUL_A_FAIRE[INTERP=(10, ** 2)] *\n",
      "-------------------\n",
      "..................................\n",
      "resultat reco a traiter =  racine_carrée_de cent moins quatre-vingt_dix\n",
      "\n",
      "======================================\n",
      "['racine_carrée_de', 'cent', 'moins', 'quatre-vingt_dix']\n",
      "|.rac.cen.moi.qua.|\n",
      "Leaf Init Rule:\n",
      "|[---]   .   .   .| [0:1] 'racine_carrée_de'\n",
      "|.   [---]   .   .| [1:2] 'cent'\n",
      "|.   .   [---]   .| [2:3] 'moins'\n",
      "|.   .   .   [---]| [3:4] 'quatre-vingt_dix'\n",
      "Feature Bottom Up Predict Combine Rule:\n",
      "|[---]   .   .   .| [0:1] OPERATEUR_UNAIRE_AP[SEM='** 0.5'] -> 'racine_carrée_de' *\n",
      "Feature Bottom Up Predict Combine Rule:\n",
      "|[--->   .   .   .| [0:1] CALCUL_A_FAIRE[INTERP=(?n1+?o)] -> OPERATEUR_UNAIRE_AP[SEM=?o] * NOMBRE[SEM=?n1] {?o: '** 0.5'}\n",
      "|[--->   .   .   .| [0:1] CALCUL_A_FAIRE[INTERP=(?n1+?o1+?o2+?n2)] -> OPERATEUR_UNAIRE_AP[SEM=?o1] * NOMBRE[SEM=?n1] OPERATEUR[SEM=?o2] NOMBRE[SEM=?n2] {?o1: '** 0.5'}\n",
      "Feature Bottom Up Predict Combine Rule:\n",
      "|.   [---]   .   .| [1:2] CENTAINE[SEM='100'] -> 'cent' *\n",
      "Feature Bottom Up Predict Combine Rule:\n",
      "|.   [---]   .   .| [1:2] NOMBRE[SEM='100'] -> CENTAINE[SEM='100'] *\n",
      "Feature Bottom Up Predict Combine Rule:\n",
      "|.   [--->   .   .| [1:2] CALCUL_A_FAIRE[INTERP=(?n1+?o)] -> NOMBRE[SEM=?n1] * OPERATEUR_UNAIRE_AV[SEM=?o] {?n1: '100'}\n",
      "|.   [--->   .   .| [1:2] CALCUL_A_FAIRE[INTERP=(?n1+?o+?n2)] -> NOMBRE[SEM=?n1] * OPERATEUR[SEM=?o] NOMBRE[SEM=?n2] {?n1: '100'}\n",
      "|.   [--->   .   .| [1:2] CALCUL_A_FAIRE[INTERP=(?n1+?o1+?o2+?n2)] -> NOMBRE[SEM=?n1] * OPERATEUR_UNAIRE_AV[SEM=?o] OPERATEUR[SEM=?o2] NOMBRE[SEM=?n2] {?n1: '100'}\n",
      "|.   [--->   .   .| [1:2] CALCUL_A_FAIRE[INTERP=(?n1+?o1+?n2+?o2+?n3)] -> NOMBRE[SEM=?n1] * OPERATEUR[SEM=?o1] NOMBRE[SEM=?n2] OPERATEUR[SEM=?o2] NOMBRE[SEM=?n3] {?n1: '100'}\n",
      "Feature Single Edge Fundamental Rule:\n",
      "|[-------]   .   .| [0:2] CALCUL_A_FAIRE[INTERP=(100, ** 0.5)] -> OPERATEUR_UNAIRE_AP[SEM='** 0.5'] NOMBRE[SEM='100'] *\n",
      "|[------->   .   .| [0:2] CALCUL_A_FAIRE[INTERP=(?n1+?o1+?o2+?n2)] -> OPERATEUR_UNAIRE_AP[SEM=?o1] NOMBRE[SEM=?n1] * OPERATEUR[SEM=?o2] NOMBRE[SEM=?n2] {?n1: '100', ?o1: '** 0.5'}\n",
      "Feature Bottom Up Predict Combine Rule:\n",
      "|[-------]   .   .| [0:2] OPERATION[] -> CALCUL_A_FAIRE[INTERP=(100, ** 0.5)] *\n",
      "Feature Bottom Up Predict Combine Rule:\n",
      "|.   .   [---]   .| [2:3] OPERATEUR[SEM='-'] -> 'moins' *\n",
      "|.   .   [---]   .| [2:3] OPERATEUR_UNAIRE_AP[SEM='* -1'] -> 'moins' *\n",
      "Feature Bottom Up Predict Combine Rule:\n",
      "|.   .   [--->   .| [2:3] CALCUL_A_FAIRE[INTERP=(?n1+?o)] -> OPERATEUR_UNAIRE_AP[SEM=?o] * NOMBRE[SEM=?n1] {?o: '* -1'}\n",
      "|.   .   [--->   .| [2:3] CALCUL_A_FAIRE[INTERP=(?n1+?o1+?o2+?n2)] -> OPERATEUR_UNAIRE_AP[SEM=?o1] * NOMBRE[SEM=?n1] OPERATEUR[SEM=?o2] NOMBRE[SEM=?n2] {?o1: '* -1'}\n",
      "Feature Single Edge Fundamental Rule:\n",
      "|.   [------->   .| [1:3] CALCUL_A_FAIRE[INTERP=(?n1+?o+?n2)] -> NOMBRE[SEM=?n1] OPERATEUR[SEM=?o] * NOMBRE[SEM=?n2] {?n1: '100', ?o: '-'}\n",
      "|.   [------->   .| [1:3] CALCUL_A_FAIRE[INTERP=(?n1+?o1+?n2+?o2+?n3)] -> NOMBRE[SEM=?n1] OPERATEUR[SEM=?o1] * NOMBRE[SEM=?n2] OPERATEUR[SEM=?o2] NOMBRE[SEM=?n3] {?n1: '100', ?o1: '-'}\n",
      "|[----------->   .| [0:3] CALCUL_A_FAIRE[INTERP=(?n1+?o1+?o2+?n2)] -> OPERATEUR_UNAIRE_AP[SEM=?o1] NOMBRE[SEM=?n1] OPERATEUR[SEM=?o2] * NOMBRE[SEM=?n2] {?n1: '100', ?o1: '** 0.5', ?o2: '-'}\n",
      "Feature Bottom Up Predict Combine Rule:\n",
      "|.   .   .   [---]| [3:4] DIZAINE[SEM='90'] -> 'quatre-vingt_dix' *\n",
      "Feature Bottom Up Predict Combine Rule:\n",
      "|.   .   .   [---]| [3:4] NOMBRE[SEM='90'] -> DIZAINE[SEM='90'] *\n",
      "Feature Bottom Up Predict Combine Rule:\n",
      "|.   .   .   [--->| [3:4] CALCUL_A_FAIRE[INTERP=(?n1+?o)] -> NOMBRE[SEM=?n1] * OPERATEUR_UNAIRE_AV[SEM=?o] {?n1: '90'}\n",
      "|.   .   .   [--->| [3:4] CALCUL_A_FAIRE[INTERP=(?n1+?o+?n2)] -> NOMBRE[SEM=?n1] * OPERATEUR[SEM=?o] NOMBRE[SEM=?n2] {?n1: '90'}\n",
      "|.   .   .   [--->| [3:4] CALCUL_A_FAIRE[INTERP=(?n1+?o1+?o2+?n2)] -> NOMBRE[SEM=?n1] * OPERATEUR_UNAIRE_AV[SEM=?o] OPERATEUR[SEM=?o2] NOMBRE[SEM=?n2] {?n1: '90'}\n",
      "|.   .   .   [--->| [3:4] CALCUL_A_FAIRE[INTERP=(?n1+?o1+?n2+?o2+?n3)] -> NOMBRE[SEM=?n1] * OPERATEUR[SEM=?o1] NOMBRE[SEM=?n2] OPERATEUR[SEM=?o2] NOMBRE[SEM=?n3] {?n1: '90'}\n",
      "Feature Single Edge Fundamental Rule:\n",
      "|.   .   [-------]| [2:4] CALCUL_A_FAIRE[INTERP=(90, * -1)] -> OPERATEUR_UNAIRE_AP[SEM='* -1'] NOMBRE[SEM='90'] *\n",
      "|.   .   [------->| [2:4] CALCUL_A_FAIRE[INTERP=(?n1+?o1+?o2+?n2)] -> OPERATEUR_UNAIRE_AP[SEM=?o1] NOMBRE[SEM=?n1] * OPERATEUR[SEM=?o2] NOMBRE[SEM=?n2] {?n1: '90', ?o1: '* -1'}\n",
      "|.   [-----------]| [1:4] CALCUL_A_FAIRE[INTERP=(100, -, 90)] -> NOMBRE[SEM='100'] OPERATEUR[SEM='-'] NOMBRE[SEM='90'] *\n",
      "|.   [----------->| [1:4] CALCUL_A_FAIRE[INTERP=(?n1+?o1+?n2+?o2+?n3)] -> NOMBRE[SEM=?n1] OPERATEUR[SEM=?o1] NOMBRE[SEM=?n2] * OPERATEUR[SEM=?o2] NOMBRE[SEM=?n3] {?n1: '100', ?n2: '90', ?o1: '-'}\n",
      "|[===============]| [0:4] CALCUL_A_FAIRE[INTERP=(100, ** 0.5, -, 90)] -> OPERATEUR_UNAIRE_AP[SEM='** 0.5'] NOMBRE[SEM='100'] OPERATEUR[SEM='-'] NOMBRE[SEM='90'] *\n",
      "Feature Bottom Up Predict Combine Rule:\n",
      "|[===============]| [0:4] OPERATION[] -> CALCUL_A_FAIRE[INTERP=(100, ** 0.5, -, 90)] *\n",
      "Feature Bottom Up Predict Combine Rule:\n",
      "|.   [-----------]| [1:4] OPERATION[] -> CALCUL_A_FAIRE[INTERP=(100, -, 90)] *\n",
      "Feature Bottom Up Predict Combine Rule:\n",
      "|.   .   [-------]| [2:4] OPERATION[] -> CALCUL_A_FAIRE[INTERP=(90, * -1)] *\n",
      "-------------------\n",
      "(OPERATION[]\n",
      "  (CALCUL_A_FAIRE[INTERP=(100, ** 0.5, -, 90)]\n",
      "    (OPERATEUR_UNAIRE_AP[SEM='** 0.5'] racine_carrée_de)\n",
      "    (NOMBRE[SEM='100'] (CENTAINE[SEM='100'] cent))\n",
      "    (OPERATEUR[SEM='-'] moins)\n",
      "    (NOMBRE[SEM='90'] (DIZAINE[SEM='90'] quatre-vingt_dix))))\n",
      "-------------------\n",
      "(CALCUL_A_FAIRE[INTERP=(100, ** 0.5, -, 90)]\n",
      "expression =  100, ** 0.5, -, 90\n",
      "operation = ['100', '** 0.5', '-', '90']\n",
      "resultat =  100 ** 0.5 - 90  =  -80.0\n",
      "resultat =  racine_carrée_de cent moins quatre-vingt_dix\n",
      " est égal à -80.0\n",
      "\n",
      "..................................\n",
      ".........................\n",
      "Nombre de commandes exécutées :  3\n"
     ]
    }
   ],
   "source": [
    "# Création d'un analyseur basé sur la grammaire nouvelle grammaire chargée\n",
    "# version avec un niveau de tracde détaillé\n",
    "# pas complètement vérifié ... \n",
    "# le cas cent moins dix au_carré ne marche pas ... \n",
    "\n",
    "\n",
    "analyseur_V5 = parse.load_parser(nom_fichier_grammaire_V5, trace=2)\n",
    "\n",
    "nb_commande = interpretation_par_lot (\"RESULTAT_TRANSCRIPTION_V5.txt\", \"RESULTAT_CALCUL_V5.txt\", analyseur_V5)\n",
    "if nb_commande:\n",
    "    print(\"Nombre de commandes exécutées : \", nb_commande)\n",
    "else: \n",
    "    print(\"Aucun calcul valide\")\n",
    "    \n",
    "    \n",
    "## ATTENTION les résultat tiennent compte de la priorité des opérateurs "
   ]
  },
  {
   "cell_type": "code",
   "execution_count": null,
   "id": "ecd02e5f",
   "metadata": {},
   "outputs": [
    {
     "name": "stdout",
     "output_type": "stream",
     "text": [
      "\u001b[?1h\u001b=\r",
      "six plus trois fois dix\r\n",
      " est égal à 36\r\n",
      "trente fois dix divisé_par six\r\n",
      " est égal à 50.0\r\n",
      "racine_carrée_de cent moins quatre-vingt_dix\r\n",
      " est égal à -80.0\r\n",
      "\u001b[7mRESULTAT_CALCUL_V5.txt (END)\u001b[m\u001b[K"
     ]
    }
   ],
   "source": [
    "!more RESULTAT_CALCUL_V5.txt"
   ]
  },
  {
   "cell_type": "code",
   "execution_count": null,
   "id": "ce1b6f31",
   "metadata": {},
   "outputs": [],
   "source": []
  }
 ],
 "metadata": {
  "kernelspec": {
   "display_name": "Python 3 (ipykernel)",
   "language": "python",
   "name": "python3"
  },
  "language_info": {
   "codemirror_mode": {
    "name": "ipython",
    "version": 3
   },
   "file_extension": ".py",
   "mimetype": "text/x-python",
   "name": "python",
   "nbconvert_exporter": "python",
   "pygments_lexer": "ipython3",
   "version": "3.8.12"
  }
 },
 "nbformat": 4,
 "nbformat_minor": 5
}
