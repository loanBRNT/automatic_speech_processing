{
 "cells": [
  {
   "cell_type": "markdown",
   "metadata": {},
   "source": [
    "# TP4 : Reconnaissance de mots isolés par programmation dynamique (DTW)\n",
    "\n",
    "NOM - PRÉNOM :\n",
    "Déposer le notebook sur moodle à la fin de la séance."
   ]
  },
  {
   "cell_type": "code",
   "execution_count": 91,
   "metadata": {},
   "outputs": [],
   "source": [
    "import numpy as np\n",
    "from math import floor, inf, dist, ceil\n",
    "import scipy.io.wavfile as wav\n",
    "import os\n",
    "import matplotlib.pyplot as plt"
   ]
  },
  {
   "cell_type": "markdown",
   "metadata": {},
   "source": [
    "# Réutilisation de fonctions pour la lecture et la paramétrisation"
   ]
  },
  {
   "cell_type": "code",
   "execution_count": 67,
   "metadata": {},
   "outputs": [],
   "source": [
    "# Réutiliser la fonction lecture permettant de lire un fichier son et de connaître ses caractéristiques \n",
    "# (fréquence d’échantillonnage, durée).\n",
    "\n",
    "# LECTURE d'un fichier Wave\n",
    "def lecture(fichier, nb_bits):\n",
    "    f, signal = wav.read(fichier) # renvoie des signaux reels\n",
    "    sig_norm = signal / (2**(nb_bits-1)-1) # on normalise les signaux\n",
    "    return sig_norm, f, len(sig_norm)*1/f"
   ]
  },
  {
   "cell_type": "code",
   "execution_count": 68,
   "metadata": {},
   "outputs": [],
   "source": [
    "# Réutiliser la fonction parametrisation qui calcule les paramètres acoustiques\n",
    "# (coefficients cepstraux) d’un fichier sonore sur des fenêtres de taille  \"taille_fenetre\"  avec un\n",
    "# recouvrement de moitié.\n",
    "    \n",
    "# Calcul de \"nbe_coef\" coefficients cepstraux\n",
    "def parametrisation(signal, taille_fenetre, nbe_coef):\n",
    "    recouvrement = floor(taille_fenetre / 2)\n",
    "    nb_fen = floor((np.size(signal) - taille_fenetre) / recouvrement) + 1\n",
    "    mfcc = np.zeros((nb_fen, nbe_coef))\n",
    "\n",
    "    # Calcul des MFCC\n",
    "    for fen in range(nb_fen):\n",
    "        p = fen * recouvrement\n",
    "        spectre = abs(np.fft.fft(np.multiply(signal[p:p + taille_fenetre], np.hamming(taille_fenetre))))\n",
    "        cepstre = np.fft.fft(np.log(spectre))\n",
    "        cc = cepstre[1:nbe_coef+1].real\n",
    "        mfcc[fen, :] = cc\n",
    "\n",
    "    return mfcc"
   ]
  },
  {
   "cell_type": "code",
   "execution_count": 69,
   "metadata": {},
   "outputs": [],
   "source": [
    "# Modifier votre fonction  parametrisation_total (utilisant la fonction  parametrisation )\n",
    "# afin qu’elle permette de calculer les paramètres pour l’ensemble des fichiers d’un répertoire\n",
    "# rep_wav  et de stocker les résultats dans un répertoire  rep_mfcc. Cette fonction renvoie\n",
    "# la liste des noms de fichiers traités.\n",
    "    \n",
    "# Fonction de paramétrisation totale --> tous les fichiers du répertoire 'WAV/APP'\n",
    "def parametrisation_total(nb_bits, taille_fenetre, nbe_coef, rep_wav, rep_mfcc):\n",
    "    l_nom=[]\n",
    "    for path in os.listdir(rep_wav):\n",
    "        if os.path.isfile(os.path.join(rep_wav, path)):\n",
    "            l_nom.append(path)\n",
    "            signal, fe, duree = lecture(rep_wav+ path, nb_bits)\n",
    "            mfcc = parametrisation(signal,taille_fenetre,nbe_coef)\n",
    "            np.savetxt(rep_mfcc + path[:len(path)-4] + \".mfcc\",mfcc)\n",
    "    return l_nom"
   ]
  },
  {
   "cell_type": "markdown",
   "metadata": {},
   "source": [
    "# Programmation dynamique"
   ]
  },
  {
   "cell_type": "code",
   "execution_count": 156,
   "metadata": {},
   "outputs": [],
   "source": [
    "# Ecrire une fonction dtw qui prend deux arguments en entrée : la matrice de coefficients\n",
    "# cepstraux du signal à reconnaître (observation) et la matrice de coefficients cepstraux d'un\n",
    "# signal de référence. Cette fonction renvoie le coût normalisé.\n",
    "    \n",
    "# Calcul de la DTW entre deux vecteurs\n",
    "def dtw(mfcc_ref, mfcc_obs):\n",
    "    size = [len(mfcc_ref[:,0])+1, len(mfcc_obs[:,0])+1]\n",
    "\n",
    "    g = np.zeros(size)\n",
    "    d = np.zeros(size)\n",
    "\n",
    "    #init\n",
    "    for i in range(1,size[0]):\n",
    "        g[i,0]=np.inf\n",
    "        d[i,0]=np.inf\n",
    "    for j in range(1,size[1]):\n",
    "        g[0,j]=np.inf\n",
    "        d[0,j]=np.inf\n",
    "    g[0,0]=0\n",
    "\n",
    "    for i in range(1,size[0]):\n",
    "        x = np.array(mfcc_ref[i-1,:])\n",
    "        for j in range(1,size[1]):\n",
    "            y = np.array(mfcc_obs[j-1,:])\n",
    "            d[i,j] = np.sqrt(np.sum((x-y)**2))\n",
    "\n",
    "    #boucle\n",
    "    for i in range(1,size[0]):\n",
    "        for j in range(1,size[1]):\n",
    "            premier_min = min(g[i-1,j] + d[i,j],g[i-1,j-1] + 2*d[i,j])\n",
    "            g[i,j] = min(premier_min,g[i,j-1] + d[i,j])\n",
    "    #print(g)\n",
    "    return g[size[0]-1,size[1]-1] / (size[0]+size[1])"
   ]
  },
  {
   "cell_type": "code",
   "execution_count": 157,
   "metadata": {},
   "outputs": [],
   "source": [
    "#Ecrire une fonction   dtw_total   (utilisant la fonction   dtw  ) qui calcule la DTW sur toutes\n",
    "# les observations (fichiers Wave) du répertoire   rep_obs   par rapport   toutes les références\n",
    "# (fichiers MFCC) du répertoire   rep_ref. Cette fonction renvoie une matrice de coûts de taille\n",
    "# nb_fichier_obs x nb_fichier_ref.\n",
    "\n",
    "# DTW sur toutes les observations par rapport à toutes les références\n",
    "def DTW_total(nb_bits, taille_fenetre, nbe_coef, rep_mfcc_ref, rep_wave_obs):\n",
    "    dw=[]\n",
    "    for obs in os.listdir(rep_wave_obs):\n",
    "        sous_dw=[]\n",
    "        if os.path.isfile(os.path.join(rep_wave_obs, obs)):\n",
    "            signal, fe, duree = lecture(rep_wave_obs+ obs, nb_bits)\n",
    "            mfcc_obs = parametrisation(signal,taille_fenetre,nbe_coef)\n",
    "            for ref in os.listdir(rep_mfcc_ref):\n",
    "                if os.path.isfile(os.path.join(rep_mfcc_ref, ref)):\n",
    "                    mfcc_ref = np.loadtxt(rep_mfcc_ref+ref)\n",
    "                    sous_dw.append(dtw(mfcc_ref,mfcc_obs))\n",
    "        dw.append(sous_dw)\n",
    "    return dw"
   ]
  },
  {
   "cell_type": "markdown",
   "metadata": {},
   "source": [
    "# Affichages et tests"
   ]
  },
  {
   "cell_type": "code",
   "execution_count": 158,
   "metadata": {},
   "outputs": [],
   "source": [
    "# Ecrire un programme principal qui lance les fonctions précédentes et affiche pour chaque\n",
    "# observation (mot inconnu), le mot le plus probable.\n",
    "\n",
    "# Initialisation\n",
    "q = 16\n",
    "taille_fenetre = 1024\n",
    "nbe_coef = 16\n",
    "rep_ref = 'SIGNAL/REF/'\n",
    "rep_obs = 'SIGNAL/OBS/'\n",
    "rep_mfcc = 'MFCC/'\n"
   ]
  },
  {
   "cell_type": "code",
   "execution_count": 159,
   "metadata": {},
   "outputs": [],
   "source": [
    "# Paramétrisation des fichiers références\n",
    "nom_fic_ref = parametrisation_total(q,taille_fenetre,nbe_coef,rep_ref,rep_mfcc)\n",
    "# Test de la DTW\n",
    "mat_cout = DTW_total(q,taille_fenetre,nbe_coef,rep_mfcc,rep_obs)\n",
    "mat_cout = np.array(mat_cout)\n"
   ]
  },
  {
   "cell_type": "code",
   "execution_count": 160,
   "outputs": [
    {
     "name": "stdout",
     "output_type": "stream",
     "text": [
      "Le fichier  alpha.wav  est reconnu comme  alpha.wav\n",
      "Le fichier  bravo.wav  est reconnu comme  bravo.wav\n",
      "Le fichier  charlie.wav  est reconnu comme  mike.wav\n",
      "Le fichier  delta.wav  est reconnu comme  delta.wav\n",
      "Le fichier  echo.wav  est reconnu comme  echo.wav\n",
      "Le fichier  foxtrott.wav  est reconnu comme  foxtrott.wav\n",
      "Le fichier  golf.wav  est reconnu comme  golf.wav\n",
      "Le fichier  hotel.wav  est reconnu comme  hotel.wav\n",
      "Le fichier  india.wav  est reconnu comme  india.wav\n",
      "Le fichier  juliett.wav  est reconnu comme  juliett.wav\n",
      "Le fichier  kilo.wav  est reconnu comme  kilo.wav\n",
      "Le fichier  lima.wav  est reconnu comme  lima.wav\n",
      "Le fichier  mike.wav  est reconnu comme  mike.wav\n"
     ]
    }
   ],
   "source": [
    "# Affichage des couts\n",
    "\n",
    "s = mat_cout.shape\n",
    "\n",
    "for i in range(s[0]):\n",
    "    indice = np.argmin(mat_cout[i])\n",
    "    print(\"Le fichier \",nom_fic_ref[i], \" est reconnu comme \",nom_fic_ref[indice])"
   ],
   "metadata": {
    "collapsed": false
   }
  },
  {
   "cell_type": "code",
   "execution_count": 162,
   "outputs": [
    {
     "name": "stdout",
     "output_type": "stream",
     "text": [
      "['alpha.wav', 'bravo.wav', 'charlie.wav', 'delta.wav', 'echo.wav', 'foxtrott.wav', 'golf.wav', 'hotel.wav', 'india.wav', 'juliett.wav', 'kilo.wav', 'lima.wav', 'mike.wav']\n"
     ]
    },
    {
     "ename": "AttributeError",
     "evalue": "'AxesSubplot' object has no attribute 'xticks'",
     "output_type": "error",
     "traceback": [
      "\u001B[1;31m---------------------------------------------------------------------------\u001B[0m",
      "\u001B[1;31mAttributeError\u001B[0m                            Traceback (most recent call last)",
      "\u001B[1;32m~\\AppData\\Local\\Temp\\ipykernel_19124\\3344749093.py\u001B[0m in \u001B[0;36m<cell line: 9>\u001B[1;34m()\u001B[0m\n\u001B[0;32m     10\u001B[0m     \u001B[1;32mfor\u001B[0m \u001B[0mcol\u001B[0m \u001B[1;32min\u001B[0m \u001B[0mrow\u001B[0m\u001B[1;33m:\u001B[0m\u001B[1;33m\u001B[0m\u001B[1;33m\u001B[0m\u001B[0m\n\u001B[0;32m     11\u001B[0m         \u001B[0mcol\u001B[0m\u001B[1;33m.\u001B[0m\u001B[0mbar\u001B[0m\u001B[1;33m(\u001B[0m\u001B[0mnom_fic_ref\u001B[0m\u001B[1;33m,\u001B[0m\u001B[0mmat_cout\u001B[0m\u001B[1;33m[\u001B[0m\u001B[0mi\u001B[0m\u001B[1;33m]\u001B[0m\u001B[1;33m)\u001B[0m\u001B[1;33m\u001B[0m\u001B[1;33m\u001B[0m\u001B[0m\n\u001B[1;32m---> 12\u001B[1;33m         \u001B[0mcol\u001B[0m\u001B[1;33m.\u001B[0m\u001B[0mxticks\u001B[0m\u001B[1;33m(\u001B[0m\u001B[0mnom_fic_ref\u001B[0m\u001B[1;33m,\u001B[0m\u001B[0mposition\u001B[0m\u001B[1;33m=\u001B[0m\u001B[1;36m45\u001B[0m\u001B[1;33m)\u001B[0m\u001B[1;33m\u001B[0m\u001B[1;33m\u001B[0m\u001B[0m\n\u001B[0m\u001B[0;32m     13\u001B[0m         \u001B[0mi\u001B[0m\u001B[1;33m=\u001B[0m\u001B[0mi\u001B[0m\u001B[1;33m+\u001B[0m\u001B[1;36m1\u001B[0m\u001B[1;33m\u001B[0m\u001B[1;33m\u001B[0m\u001B[0m\n\u001B[0;32m     14\u001B[0m         \u001B[1;32mif\u001B[0m \u001B[0mi\u001B[0m \u001B[1;33m>=\u001B[0m \u001B[0ms\u001B[0m\u001B[1;33m[\u001B[0m\u001B[1;36m0\u001B[0m\u001B[1;33m]\u001B[0m\u001B[1;33m:\u001B[0m\u001B[1;33m\u001B[0m\u001B[1;33m\u001B[0m\u001B[0m\n",
      "\u001B[1;31mAttributeError\u001B[0m: 'AxesSubplot' object has no attribute 'xticks'"
     ]
    },
    {
     "data": {
      "text/plain": "<Figure size 640x480 with 16 Axes>",
      "image/png": "[encoded data removed]"
     },
     "metadata": {},
     "output_type": "display_data"
    }
   ],
   "source": [
    "# Affichage amélioré\n",
    "\n",
    "print(nom_fic_ref)\n",
    "\n",
    "nb_fic = ceil(np.sqrt(s[0]))\n",
    "fig, ax = plt.subplots(nrows=nb_fic, ncols=nb_fic)\n",
    "\n",
    "i=0\n",
    "for row in ax:\n",
    "    for col in row:\n",
    "        col.bar(nom_fic_ref,mat_cout[i])\n",
    "        i=i+1\n",
    "        if i >= s[0]:\n",
    "            break\n",
    "\n",
    "plt.show()\n",
    "\n",
    "# Calculer le score de reconnaissance.\n",
    "\n",
    "# Pour chaque observation, affichage des coûts (par rapport aux références) sous forme d'histogramme\n",
    "\n"
   ],
   "metadata": {
    "collapsed": false
   }
  },
  {
   "cell_type": "code",
   "execution_count": 3,
   "metadata": {},
   "outputs": [],
   "source": [
    "# Affichage score final\n"
   ]
  },
  {
   "cell_type": "code",
   "execution_count": null,
   "metadata": {},
   "outputs": [],
   "source": [
    "# Autres tests \n",
    "# Tests\n",
    "# Bien  videmment, afin d’am liorer les r sultats, vous pourrez modifier :\n",
    "# - le nombre de param tres (coefficients cepstraux) : nbe_coef,\n",
    "# - la taille de la fen tre d’analyse : taille_fenetre,\n",
    "# ET TESTER AVEC VOS PROPRES ENREGISTREMENTS !"
   ]
  }
 ],
 "metadata": {
  "kernelspec": {
   "display_name": "Python 3",
   "language": "python",
   "name": "python3"
  },
  "language_info": {
   "codemirror_mode": {
    "name": "ipython",
    "version": 3
   },
   "file_extension": ".py",
   "mimetype": "text/x-python",
   "name": "python",
   "nbconvert_exporter": "python",
   "pygments_lexer": "ipython3",
   "version": "3.8.5"
  }
 },
 "nbformat": 4,
 "nbformat_minor": 4
}
